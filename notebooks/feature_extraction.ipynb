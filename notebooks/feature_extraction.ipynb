{
 "cells": [
  {
   "cell_type": "code",
   "execution_count": 1,
   "metadata": {
    "collapsed": true
   },
   "outputs": [],
   "source": [
    "%matplotlib inline"
   ]
  },
  {
   "cell_type": "code",
   "execution_count": 2,
   "metadata": {},
   "outputs": [
    {
     "name": "stdout",
     "output_type": "stream",
     "text": [
      "alabaster==0.7.10\r\n",
      "anaconda-client==1.6.5\r\n",
      "anaconda-navigator==1.6.9\r\n",
      "anaconda-project==0.8.0\r\n",
      "appnope==0.1.0\r\n",
      "appscript==1.0.1\r\n",
      "asn1crypto==0.22.0\r\n",
      "astroid==1.5.3\r\n",
      "astropy==2.0.2\r\n",
      "Babel==2.5.0\r\n",
      "backports.shutil-get-terminal-size==1.0.0\r\n",
      "beautifulsoup4==4.6.0\r\n",
      "bitarray==0.8.1\r\n",
      "bkcharts==0.2\r\n",
      "blaze==0.11.3\r\n",
      "bleach==2.0.0\r\n",
      "bokeh==0.12.10\r\n",
      "boto==2.48.0\r\n",
      "Bottleneck==1.2.1\r\n",
      "certifi==2017.11.5\r\n",
      "cffi==1.10.0\r\n",
      "chardet==3.0.4\r\n",
      "click==6.7\r\n",
      "cloudpickle==0.4.0\r\n",
      "clyent==1.2.2\r\n",
      "colorama==0.3.9\r\n",
      "conda==4.4.7\r\n",
      "conda-build==3.0.27\r\n",
      "conda-verify==2.0.0\r\n",
      "contextlib2==0.5.5\r\n",
      "cryptography==2.0.3\r\n",
      "cycler==0.10.0\r\n",
      "Cython==0.26.1\r\n",
      "cytoolz==0.8.2\r\n",
      "dask==0.15.3\r\n",
      "datashape==0.5.4\r\n",
      "decorator==4.1.2\r\n",
      "distributed==1.19.1\r\n",
      "docutils==0.14\r\n",
      "entrypoints==0.2.3\r\n",
      "et-xmlfile==1.0.1\r\n",
      "fastcache==1.0.2\r\n",
      "filelock==2.0.12\r\n",
      "Flask==0.12.2\r\n",
      "Flask-Cors==3.0.3\r\n",
      "gevent==1.2.2\r\n",
      "glob2==0.5\r\n",
      "gmpy2==2.0.8\r\n",
      "greenlet==0.4.12\r\n",
      "h5py==2.7.0\r\n",
      "heapdict==1.0.0\r\n",
      "html5lib==0.999999999\r\n",
      "idna==2.6\r\n",
      "imageio==2.2.0\r\n",
      "imagesize==0.7.1\r\n",
      "ipykernel==4.6.1\r\n",
      "ipython==6.1.0\r\n",
      "ipython-genutils==0.2.0\r\n",
      "ipywidgets==7.0.0\r\n",
      "isort==4.2.15\r\n",
      "itsdangerous==0.24\r\n",
      "jdcal==1.3\r\n",
      "jedi==0.10.2\r\n",
      "Jinja2==2.9.6\r\n",
      "jsonschema==2.6.0\r\n",
      "jupyter-client==5.1.0\r\n",
      "jupyter-console==5.2.0\r\n",
      "jupyter-core==4.3.0\r\n",
      "jupyterlab==0.27.0\r\n",
      "jupyterlab-launcher==0.4.0\r\n",
      "Keras==2.0.9\r\n",
      "lazy-object-proxy==1.3.1\r\n",
      "llvmlite==0.20.0\r\n",
      "locket==0.2.0\r\n",
      "lxml==4.1.0\r\n",
      "MarkupSafe==1.0\r\n",
      "matplotlib==2.1.0\r\n",
      "mccabe==0.6.1\r\n",
      "mistune==0.7.4\r\n",
      "mock==2.0.0\r\n",
      "mpmath==0.19\r\n",
      "msgpack-python==0.4.8\r\n",
      "multipledispatch==0.4.9\r\n",
      "navigator-updater==0.1.0\r\n",
      "nbconvert==5.3.1\r\n",
      "nbformat==4.4.0\r\n",
      "networkx==2.0\r\n",
      "nltk==3.2.4\r\n",
      "nose==1.3.7\r\n",
      "notebook==5.0.0\r\n",
      "numba==0.35.0+6.gaa35fb1\r\n",
      "numexpr==2.6.2\r\n",
      "numpy==1.13.3\r\n",
      "numpydoc==0.7.0\r\n",
      "odo==0.5.1\r\n",
      "olefile==0.44\r\n",
      "openpyxl==2.4.8\r\n",
      "packaging==16.8\r\n",
      "pandas==0.20.3\r\n",
      "pandocfilters==1.4.2\r\n",
      "partd==0.3.8\r\n",
      "path.py==10.3.1\r\n",
      "pathlib2==2.3.0\r\n",
      "patsy==0.4.1\r\n",
      "pbr==3.1.1\r\n",
      "pep8==1.7.0\r\n",
      "pexpect==4.2.1\r\n",
      "pickleshare==0.7.4\r\n",
      "Pillow==4.2.1\r\n",
      "pkginfo==1.4.1\r\n",
      "ply==3.10\r\n",
      "prompt-toolkit==1.0.15\r\n",
      "protobuf==3.5.1\r\n",
      "psutil==5.4.0\r\n",
      "ptyprocess==0.5.2\r\n",
      "py==1.4.34\r\n",
      "pycodestyle==2.3.1\r\n",
      "pycosat==0.6.3\r\n",
      "pycparser==2.18\r\n",
      "pycrypto==2.6.1\r\n",
      "pycurl==7.43.0\r\n",
      "pyflakes==1.6.0\r\n",
      "Pygments==2.2.0\r\n",
      "pylint==1.7.4\r\n",
      "pyodbc==4.0.17\r\n",
      "pyOpenSSL==17.2.0\r\n",
      "pyparsing==2.2.0\r\n",
      "PySocks==1.6.7\r\n",
      "pytest==3.2.1\r\n",
      "python-dateutil==2.6.1\r\n",
      "pytz==2017.2\r\n",
      "PyWavelets==0.5.2\r\n",
      "PyYAML==3.12\r\n",
      "pyzmq==16.0.2\r\n",
      "QtAwesome==0.4.4\r\n",
      "qtconsole==4.3.1\r\n",
      "QtPy==1.3.1\r\n",
      "requests==2.18.4\r\n",
      "rope==0.10.5\r\n",
      "ruamel-yaml==0.11.14\r\n",
      "scikit-image==0.13.0\r\n",
      "scikit-learn==0.19.1\r\n",
      "scipy==0.19.1\r\n",
      "seaborn==0.8\r\n",
      "simplegeneric==0.8.1\r\n",
      "singledispatch==3.4.0.3\r\n",
      "six==1.11.0\r\n",
      "snowballstemmer==1.2.1\r\n",
      "sortedcollections==0.5.3\r\n",
      "sortedcontainers==1.5.7\r\n",
      "Sphinx==1.6.3\r\n",
      "sphinxcontrib-websupport==1.0.1\r\n",
      "spyder==3.2.4\r\n",
      "SQLAlchemy==1.1.13\r\n",
      "statsmodels==0.8.0\r\n",
      "sympy==1.1.1\r\n",
      "tables==3.4.2\r\n",
      "tblib==1.3.2\r\n",
      "tensorflow==1.0.0\r\n",
      "terminado==0.6\r\n",
      "testpath==0.3.1\r\n",
      "toolz==0.8.2\r\n",
      "torch==0.3.0.post4\r\n",
      "torchvision==0.2.0\r\n",
      "tornado==4.5.2\r\n",
      "traitlets==4.3.2\r\n",
      "typing==3.6.2\r\n",
      "unicodecsv==0.14.1\r\n",
      "urllib3==1.22\r\n",
      "wcwidth==0.1.7\r\n",
      "webencodings==0.5.1\r\n",
      "Werkzeug==0.12.2\r\n",
      "widgetsnbextension==3.0.2\r\n",
      "wrapt==1.10.11\r\n",
      "xlrd==1.1.0\r\n",
      "XlsxWriter==1.0.2\r\n",
      "xlwings==0.11.4\r\n",
      "xlwt==1.2.0\r\n",
      "zict==0.1.3\r\n"
     ]
    }
   ],
   "source": [
    "! pip freeze"
   ]
  },
  {
   "cell_type": "code",
   "execution_count": 3,
   "metadata": {
    "collapsed": true
   },
   "outputs": [],
   "source": [
    "from __future__ import print_function, division\n",
    "\n",
    "import torch\n",
    "import torch.nn as nn\n",
    "import torch.optim as optim\n",
    "from torch.optim import lr_scheduler\n",
    "from torch.autograd import Variable\n",
    "import numpy as np\n",
    "import torchvision\n",
    "from torchvision import datasets, models, transforms\n",
    "import matplotlib.pyplot as plt\n",
    "import time\n",
    "import os\n",
    "import copy\n",
    "\n",
    "plt.ion()   # interactive mode"
   ]
  },
  {
   "cell_type": "code",
   "execution_count": 4,
   "metadata": {},
   "outputs": [
    {
     "name": "stderr",
     "output_type": "stream",
     "text": [
      "/Users/yuany/anaconda3/lib/python3.6/site-packages/torchvision-0.2.0-py3.6.egg/torchvision/transforms/transforms.py:397: UserWarning: The use of the transforms.RandomSizedCrop transform is deprecated, please use transforms.RandomResizedCrop instead.\n",
      "/Users/yuany/anaconda3/lib/python3.6/site-packages/torchvision-0.2.0-py3.6.egg/torchvision/transforms/transforms.py:156: UserWarning: The use of the transforms.Scale transform is deprecated, please use transforms.Resize instead.\n"
     ]
    }
   ],
   "source": [
    "# Data augmentation and normalization for training\n",
    "# Just normalization for validation\n",
    "data_transforms = {\n",
    "    'train': transforms.Compose([\n",
    "        transforms.RandomSizedCrop(224),\n",
    "        transforms.RandomHorizontalFlip(),\n",
    "        transforms.ToTensor(),\n",
    "        transforms.Normalize([0.485, 0.456, 0.406], [0.229, 0.224, 0.225])\n",
    "    ]),\n",
    "    'val': transforms.Compose([\n",
    "        transforms.Scale(256),\n",
    "        transforms.CenterCrop(224),\n",
    "        transforms.ToTensor(),\n",
    "        transforms.Normalize([0.485, 0.456, 0.406], [0.229, 0.224, 0.225])\n",
    "    ]),\n",
    "}\n",
    "\n",
    "data_dir = 'hymenoptera_data'\n",
    "image_datasets = {x: datasets.ImageFolder(os.path.join(data_dir, x),\n",
    "                                          data_transforms[x])\n",
    "                  for x in ['train', 'val']}\n",
    "dataloaders = {x: torch.utils.data.DataLoader(image_datasets[x], batch_size=4,\n",
    "                                             shuffle=True, num_workers=4)\n",
    "              for x in ['train', 'val']}\n",
    "dataset_sizes = {x: len(image_datasets[x]) for x in ['train', 'val']}\n",
    "class_names = image_datasets['train'].classes"
   ]
  },
  {
   "cell_type": "code",
   "execution_count": 5,
   "metadata": {},
   "outputs": [
    {
     "data": {
      "image/png": "[encoded data removed]",
      "text/plain": [
       "<matplotlib.figure.Figure at 0x119ee17f0>"
      ]
     },
     "metadata": {},
     "output_type": "display_data"
    }
   ],
   "source": [
    "def imshow(inp, title=None):\n",
    "    \"\"\"Imshow for Tensor.\"\"\"\n",
    "    inp = inp.numpy().transpose((1, 2, 0))\n",
    "    mean = np.array([0.485, 0.456, 0.406])\n",
    "    std = np.array([0.229, 0.224, 0.225])\n",
    "    inp = std * inp + mean\n",
    "    inp = np.clip(inp, 0, 1)\n",
    "    plt.imshow(inp)\n",
    "    if title is not None:\n",
    "        plt.title(title)\n",
    "    plt.pause(0.001)  # pause a bit so that plots are updated\n",
    "\n",
    "\n",
    "# Get a batch of training data\n",
    "inputs, classes = next(iter(dataloaders['train']))\n",
    "\n",
    "# Make a grid from batch\n",
    "out = torchvision.utils.make_grid(inputs)\n",
    "\n",
    "imshow(out, title=[class_names[x] for x in classes])"
   ]
  },
  {
   "cell_type": "code",
   "execution_count": 6,
   "metadata": {
    "collapsed": true
   },
   "outputs": [],
   "source": [
    "def visualize_model(model, num_images=6):\n",
    "    images_so_far = 0\n",
    "    fig = plt.figure()\n",
    "\n",
    "    for i, data in enumerate(dataloaders['val']):\n",
    "        inputs, labels = data\n",
    "        if use_gpu:\n",
    "            inputs, labels = Variable(inputs.cuda()), Variable(labels.cuda())\n",
    "        else:\n",
    "            inputs, labels = Variable(inputs), Variable(labels)\n",
    "\n",
    "        outputs = model(inputs)\n",
    "        _, preds = torch.max(outputs.data, 1)\n",
    "\n",
    "        for j in range(inputs.size()[0]):\n",
    "            images_so_far += 1\n",
    "            ax = plt.subplot(num_images//2, 2, images_so_far)\n",
    "            ax.axis('off')\n",
    "            ax.set_title('predicted: {}'.format(class_names[preds[j]]))\n",
    "            imshow(inputs.cpu().data[j])\n",
    "\n",
    "            if images_so_far == num_images:\n",
    "                return"
   ]
  },
  {
   "cell_type": "code",
   "execution_count": 7,
   "metadata": {},
   "outputs": [
    {
     "name": "stderr",
     "output_type": "stream",
     "text": [
      "Downloading: \"https://download.pytorch.org/models/resnet18-5c106cde.pth\" to /Users/yuany/.torch/models/resnet18-5c106cde.pth\n",
      "100.0%\n"
     ]
    }
   ],
   "source": [
    "model_ft = models.resnet18(pretrained=True)\n",
    "num_ftrs = model_ft.fc.in_features"
   ]
  },
  {
   "cell_type": "code",
   "execution_count": 8,
   "metadata": {},
   "outputs": [
    {
     "name": "stdout",
     "output_type": "stream",
     "text": [
      "512\n"
     ]
    }
   ],
   "source": [
    "print(num_ftrs)"
   ]
  },
  {
   "cell_type": "code",
   "execution_count": 9,
   "metadata": {},
   "outputs": [
    {
     "name": "stdout",
     "output_type": "stream",
     "text": [
      "ResNet(\n",
      "  (conv1): Conv2d (3, 64, kernel_size=(7, 7), stride=(2, 2), padding=(3, 3), bias=False)\n",
      "  (bn1): BatchNorm2d(64, eps=1e-05, momentum=0.1, affine=True)\n",
      "  (relu): ReLU(inplace)\n",
      "  (maxpool): MaxPool2d(kernel_size=(3, 3), stride=(2, 2), padding=(1, 1), dilation=(1, 1))\n",
      "  (layer1): Sequential(\n",
      "    (0): BasicBlock(\n",
      "      (conv1): Conv2d (64, 64, kernel_size=(3, 3), stride=(1, 1), padding=(1, 1), bias=False)\n",
      "      (bn1): BatchNorm2d(64, eps=1e-05, momentum=0.1, affine=True)\n",
      "      (relu): ReLU(inplace)\n",
      "      (conv2): Conv2d (64, 64, kernel_size=(3, 3), stride=(1, 1), padding=(1, 1), bias=False)\n",
      "      (bn2): BatchNorm2d(64, eps=1e-05, momentum=0.1, affine=True)\n",
      "    )\n",
      "    (1): BasicBlock(\n",
      "      (conv1): Conv2d (64, 64, kernel_size=(3, 3), stride=(1, 1), padding=(1, 1), bias=False)\n",
      "      (bn1): BatchNorm2d(64, eps=1e-05, momentum=0.1, affine=True)\n",
      "      (relu): ReLU(inplace)\n",
      "      (conv2): Conv2d (64, 64, kernel_size=(3, 3), stride=(1, 1), padding=(1, 1), bias=False)\n",
      "      (bn2): BatchNorm2d(64, eps=1e-05, momentum=0.1, affine=True)\n",
      "    )\n",
      "  )\n",
      "  (layer2): Sequential(\n",
      "    (0): BasicBlock(\n",
      "      (conv1): Conv2d (64, 128, kernel_size=(3, 3), stride=(2, 2), padding=(1, 1), bias=False)\n",
      "      (bn1): BatchNorm2d(128, eps=1e-05, momentum=0.1, affine=True)\n",
      "      (relu): ReLU(inplace)\n",
      "      (conv2): Conv2d (128, 128, kernel_size=(3, 3), stride=(1, 1), padding=(1, 1), bias=False)\n",
      "      (bn2): BatchNorm2d(128, eps=1e-05, momentum=0.1, affine=True)\n",
      "      (downsample): Sequential(\n",
      "        (0): Conv2d (64, 128, kernel_size=(1, 1), stride=(2, 2), bias=False)\n",
      "        (1): BatchNorm2d(128, eps=1e-05, momentum=0.1, affine=True)\n",
      "      )\n",
      "    )\n",
      "    (1): BasicBlock(\n",
      "      (conv1): Conv2d (128, 128, kernel_size=(3, 3), stride=(1, 1), padding=(1, 1), bias=False)\n",
      "      (bn1): BatchNorm2d(128, eps=1e-05, momentum=0.1, affine=True)\n",
      "      (relu): ReLU(inplace)\n",
      "      (conv2): Conv2d (128, 128, kernel_size=(3, 3), stride=(1, 1), padding=(1, 1), bias=False)\n",
      "      (bn2): BatchNorm2d(128, eps=1e-05, momentum=0.1, affine=True)\n",
      "    )\n",
      "  )\n",
      "  (layer3): Sequential(\n",
      "    (0): BasicBlock(\n",
      "      (conv1): Conv2d (128, 256, kernel_size=(3, 3), stride=(2, 2), padding=(1, 1), bias=False)\n",
      "      (bn1): BatchNorm2d(256, eps=1e-05, momentum=0.1, affine=True)\n",
      "      (relu): ReLU(inplace)\n",
      "      (conv2): Conv2d (256, 256, kernel_size=(3, 3), stride=(1, 1), padding=(1, 1), bias=False)\n",
      "      (bn2): BatchNorm2d(256, eps=1e-05, momentum=0.1, affine=True)\n",
      "      (downsample): Sequential(\n",
      "        (0): Conv2d (128, 256, kernel_size=(1, 1), stride=(2, 2), bias=False)\n",
      "        (1): BatchNorm2d(256, eps=1e-05, momentum=0.1, affine=True)\n",
      "      )\n",
      "    )\n",
      "    (1): BasicBlock(\n",
      "      (conv1): Conv2d (256, 256, kernel_size=(3, 3), stride=(1, 1), padding=(1, 1), bias=False)\n",
      "      (bn1): BatchNorm2d(256, eps=1e-05, momentum=0.1, affine=True)\n",
      "      (relu): ReLU(inplace)\n",
      "      (conv2): Conv2d (256, 256, kernel_size=(3, 3), stride=(1, 1), padding=(1, 1), bias=False)\n",
      "      (bn2): BatchNorm2d(256, eps=1e-05, momentum=0.1, affine=True)\n",
      "    )\n",
      "  )\n",
      "  (layer4): Sequential(\n",
      "    (0): BasicBlock(\n",
      "      (conv1): Conv2d (256, 512, kernel_size=(3, 3), stride=(2, 2), padding=(1, 1), bias=False)\n",
      "      (bn1): BatchNorm2d(512, eps=1e-05, momentum=0.1, affine=True)\n",
      "      (relu): ReLU(inplace)\n",
      "      (conv2): Conv2d (512, 512, kernel_size=(3, 3), stride=(1, 1), padding=(1, 1), bias=False)\n",
      "      (bn2): BatchNorm2d(512, eps=1e-05, momentum=0.1, affine=True)\n",
      "      (downsample): Sequential(\n",
      "        (0): Conv2d (256, 512, kernel_size=(1, 1), stride=(2, 2), bias=False)\n",
      "        (1): BatchNorm2d(512, eps=1e-05, momentum=0.1, affine=True)\n",
      "      )\n",
      "    )\n",
      "    (1): BasicBlock(\n",
      "      (conv1): Conv2d (512, 512, kernel_size=(3, 3), stride=(1, 1), padding=(1, 1), bias=False)\n",
      "      (bn1): BatchNorm2d(512, eps=1e-05, momentum=0.1, affine=True)\n",
      "      (relu): ReLU(inplace)\n",
      "      (conv2): Conv2d (512, 512, kernel_size=(3, 3), stride=(1, 1), padding=(1, 1), bias=False)\n",
      "      (bn2): BatchNorm2d(512, eps=1e-05, momentum=0.1, affine=True)\n",
      "    )\n",
      "  )\n",
      "  (avgpool): AvgPool2d(kernel_size=7, stride=1, padding=0, ceil_mode=False, count_include_pad=True)\n",
      "  (fc): Linear(in_features=512, out_features=1000)\n",
      ")\n"
     ]
    }
   ],
   "source": [
    "print(model_ft)"
   ]
  },
  {
   "cell_type": "code",
   "execution_count": 12,
   "metadata": {},
   "outputs": [],
   "source": [
    "modules = list(model_ft.children())[:-1]\n",
    "resnet18_feature = nn.Sequential(*modules)"
   ]
  },
  {
   "cell_type": "code",
   "execution_count": 13,
   "metadata": {},
   "outputs": [
    {
     "name": "stdout",
     "output_type": "stream",
     "text": [
      "\n",
      " 0\n",
      " 1\n",
      " 1\n",
      " 1\n",
      "[torch.LongTensor of size 4]\n",
      "\n"
     ]
    }
   ],
   "source": [
    "inputs, classes = next(iter(dataloaders['val']))\n",
    "print(classes)"
   ]
  },
  {
   "cell_type": "code",
   "execution_count": 15,
   "metadata": {},
   "outputs": [],
   "source": [
    "inputs, labels = Variable(inputs), Variable(classes)\n",
    "outputs = resnet18_feature(inputs)"
   ]
  },
  {
   "cell_type": "code",
   "execution_count": 17,
   "metadata": {},
   "outputs": [
    {
     "data": {
      "text/plain": [
       "torch.Size([4, 512, 1, 1])"
      ]
     },
     "execution_count": 17,
     "metadata": {},
     "output_type": "execute_result"
    }
   ],
   "source": [
    "outputs.size()"
   ]
  },
  {
   "cell_type": "code",
   "execution_count": 27,
   "metadata": {},
   "outputs": [
    {
     "name": "stdout",
     "output_type": "stream",
     "text": [
      "Variable containing:\n",
      "(0 ,.,.) = \n",
      "  1.5410\n",
      "\n",
      "(1 ,.,.) = \n",
      "  0.9101\n",
      "[torch.FloatTensor of size 2x1x1]\n",
      "\n"
     ]
    }
   ],
   "source": [
    "print(outputs[1,:2,])"
   ]
  },
  {
   "cell_type": "code",
   "execution_count": 39,
   "metadata": {},
   "outputs": [
    {
     "data": {
      "text/plain": [
       "torch.Size([4, 512])"
      ]
     },
     "execution_count": 39,
     "metadata": {},
     "output_type": "execute_result"
    }
   ],
   "source": [
    "out1 = outputs.resize(4,512)\n",
    "out1.size()"
   ]
  },
  {
   "cell_type": "code",
   "execution_count": 31,
   "metadata": {},
   "outputs": [
    {
     "name": "stdout",
     "output_type": "stream",
     "text": [
      "Variable containing:\n",
      " 1.5410\n",
      " 0.9101\n",
      "[torch.FloatTensor of size 2]\n",
      "\n"
     ]
    }
   ],
   "source": [
    "print(out1[1,:2])"
   ]
  },
  {
   "cell_type": "code",
   "execution_count": 37,
   "metadata": {},
   "outputs": [],
   "source": [
    "out1_array = np.array(out1)"
   ]
  },
  {
   "cell_type": "code",
   "execution_count": 44,
   "metadata": {},
   "outputs": [
    {
     "data": {
      "text/plain": [
       "(4,\n",
       " 512,\n",
       " 1,\n",
       " 1,\n",
       " 1,\n",
       " 1,\n",
       " 1,\n",
       " 1,\n",
       " 1,\n",
       " 1,\n",
       " 1,\n",
       " 1,\n",
       " 1,\n",
       " 1,\n",
       " 1,\n",
       " 1,\n",
       " 1,\n",
       " 1,\n",
       " 1,\n",
       " 1,\n",
       " 1,\n",
       " 1,\n",
       " 1,\n",
       " 1,\n",
       " 1,\n",
       " 1,\n",
       " 1,\n",
       " 1,\n",
       " 1,\n",
       " 1,\n",
       " 1,\n",
       " 1)"
      ]
     },
     "execution_count": 44,
     "metadata": {},
     "output_type": "execute_result"
    }
   ],
   "source": [
    "out1_array.shape"
   ]
  },
  {
   "cell_type": "code",
   "execution_count": 41,
   "metadata": {
    "collapsed": true
   },
   "outputs": [],
   "source": [
    "np.savetxt('resnet18_ft.txt',out1_array,fmt='%.4e')"
   ]
  },
  {
   "cell_type": "code",
   "execution_count": null,
   "metadata": {
    "collapsed": true
   },
   "outputs": [],
   "source": []
  }
 ],
 "metadata": {
  "kernelspec": {
   "display_name": "Python 3",
   "language": "python",
   "name": "python3"
  },
  "language_info": {
   "codemirror_mode": {
    "name": "ipython",
    "version": 3
   },
   "file_extension": ".py",
   "mimetype": "text/x-python",
   "name": "python",
   "nbconvert_exporter": "python",
   "pygments_lexer": "ipython3",
   "version": "3.6.3"
  }
 },
 "nbformat": 4,
 "nbformat_minor": 2
}
