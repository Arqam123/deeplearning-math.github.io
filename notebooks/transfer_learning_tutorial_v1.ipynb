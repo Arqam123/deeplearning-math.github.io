{
  "nbformat": 4,
  "nbformat_minor": 0,
  "metadata": {
    "colab": {
      "name": "transfer_learning_tutorial_v1.ipynb",
      "version": "0.3.2",
      "views": {},
      "default_view": {},
      "provenance": []
    },
    "kernelspec": {
      "display_name": "Python 3",
      "language": "python",
      "name": "python3"
    },
    "accelerator": "GPU"
  },
  "cells": [
    {
      "metadata": {
        "id": "9q1WC8MWHo7o",
        "colab_type": "code",
        "colab": {
          "autoexec": {
            "startup": false,
            "wait_interval": 0
          }
        }
      },
      "source": [
        "%matplotlib inline"
      ],
      "cell_type": "code",
      "execution_count": 0,
      "outputs": []
    },
    {
      "metadata": {
        "id": "piLRoYvfHsva",
        "colab_type": "code",
        "colab": {
          "autoexec": {
            "startup": false,
            "wait_interval": 0
          },
          "output_extras": [
            {
              "item_id": 1
            }
          ],
          "base_uri": "https://localhost:8080/",
          "height": 2091
        },
        "outputId": "e3251bba-9742-4f2a-a421-da099bcb206c",
        "executionInfo": {
          "status": "ok",
          "timestamp": 1516710239508,
          "user_tz": -480,
          "elapsed": 2094,
          "user": {
            "displayName": "Yuan Yao",
            "photoUrl": "https://lh3.googleusercontent.com/a/default-user=s128",
            "userId": "109481376556887074430"
          }
        }
      },
      "source": [
        "! pip freeze"
      ],
      "cell_type": "code",
      "execution_count": 2,
      "outputs": [
        {
          "output_type": "stream",
          "text": [
            "beautifulsoup4==4.6.0\r\n",
            "bleach==1.5.0\r\n",
            "cachetools==2.0.1\r\n",
            "certifi==2017.11.5\r\n",
            "chardet==3.0.4\r\n",
            "crcmod==1.7\r\n",
            "cycler==0.10.0\r\n",
            "decorator==4.2.1\r\n",
            "dill==0.2.7.1\r\n",
            "entrypoints==0.2.3\r\n",
            "enum34==1.1.6\r\n",
            "future==0.15.2\r\n",
            "futures==3.0.5\r\n",
            "gapic-google-cloud-datastore-v1==0.15.3\r\n",
            "gapic-google-cloud-error-reporting-v1beta1==0.15.3\r\n",
            "gapic-google-cloud-logging-v2==0.91.3\r\n",
            "google-api-core==0.1.4\r\n",
            "google-api-python-client==1.6.4\r\n",
            "google-auth==1.3.0\r\n",
            "google-auth-httplib2==0.0.3\r\n",
            "google-auth-oauthlib==0.2.0\r\n",
            "google-cloud==0.32.0\r\n",
            "google-cloud-bigquery==0.28.0\r\n",
            "google-cloud-bigquery-datatransfer==0.1.0\r\n",
            "google-cloud-bigtable==0.28.1\r\n",
            "google-cloud-container==0.1.0\r\n",
            "google-cloud-core==0.28.0\r\n",
            "google-cloud-datastore==1.4.0\r\n",
            "google-cloud-dns==0.28.0\r\n",
            "google-cloud-error-reporting==0.28.0\r\n",
            "google-cloud-firestore==0.28.0\r\n",
            "google-cloud-language==1.0.0\r\n",
            "google-cloud-logging==1.4.0\r\n",
            "google-cloud-monitoring==0.28.0\r\n",
            "google-cloud-pubsub==0.30.1\r\n",
            "google-cloud-resource-manager==0.28.0\r\n",
            "google-cloud-runtimeconfig==0.28.0\r\n",
            "google-cloud-spanner==0.29.0\r\n",
            "google-cloud-speech==0.30.0\r\n",
            "google-cloud-storage==1.6.0\r\n",
            "google-cloud-trace==0.17.0\r\n",
            "google-cloud-translate==1.3.0\r\n",
            "google-cloud-videointelligence==1.0.0\r\n",
            "google-cloud-vision==0.29.0\r\n",
            "google-colab==0.0.1a1\r\n",
            "google-gax==0.15.16\r\n",
            "google-resumable-media==0.3.1\r\n",
            "googleapis-common-protos==1.5.3\r\n",
            "grpc-google-iam-v1==0.11.4\r\n",
            "grpcio==1.8.4\r\n",
            "html5lib==0.9999999\r\n",
            "httplib2==0.10.3\r\n",
            "idna==2.6\r\n",
            "ipykernel==4.6.1\r\n",
            "ipython==5.5.0\r\n",
            "ipython-genutils==0.2.0\r\n",
            "Jinja2==2.8\r\n",
            "jsonschema==2.5.1\r\n",
            "jupyter-client==5.2.1\r\n",
            "jupyter-core==4.4.0\r\n",
            "Markdown==2.6.11\r\n",
            "MarkupSafe==1.0\r\n",
            "matplotlib==2.1.1\r\n",
            "mistune==0.8.3\r\n",
            "mpmath==1.0.0\r\n",
            "nbconvert==5.3.1\r\n",
            "nbformat==4.4.0\r\n",
            "networkx==2.0\r\n",
            "nltk==3.2.1\r\n",
            "notebook==5.2.2\r\n",
            "numpy==1.14.0\r\n",
            "oauth2client==4.1.2\r\n",
            "oauthlib==2.0.6\r\n",
            "olefile==0.44\r\n",
            "pandas==0.22.0\r\n",
            "pandas-gbq==0.3.0\r\n",
            "pandocfilters==1.3.0\r\n",
            "patsy==0.5.0\r\n",
            "pexpect==4.3.1\r\n",
            "pickleshare==0.7.4\r\n",
            "Pillow==4.0.0\r\n",
            "plotly==1.12.12\r\n",
            "ply==3.8\r\n",
            "portpicker==1.2.0\r\n",
            "prompt-toolkit==1.0.15\r\n",
            "proto-google-cloud-datastore-v1==0.90.4\r\n",
            "proto-google-cloud-error-reporting-v1beta1==0.15.3\r\n",
            "proto-google-cloud-logging-v2==0.91.3\r\n",
            "protobuf==3.5.1\r\n",
            "psutil==4.3.1\r\n",
            "ptyprocess==0.5.2\r\n",
            "pyasn1==0.4.2\r\n",
            "pyasn1-modules==0.2.1\r\n",
            "Pygments==2.1.3\r\n",
            "pyparsing==2.2.0\r\n",
            "python-dateutil==2.5.3\r\n",
            "pytz==2016.7\r\n",
            "PyWavelets==0.5.2\r\n",
            "PyYAML==3.11\r\n",
            "pyzmq==16.0.3\r\n",
            "requests==2.18.4\r\n",
            "requests-oauthlib==0.8.0\r\n",
            "rsa==3.4.2\r\n",
            "scikit-image==0.13.1\r\n",
            "scikit-learn==0.19.1\r\n",
            "scipy==0.19.1\r\n",
            "seaborn==0.7.1\r\n",
            "simplegeneric==0.8.1\r\n",
            "six==1.11.0\r\n",
            "statsmodels==0.8.0\r\n",
            "sympy==1.1.1\r\n",
            "tensorflow==1.4.1\r\n",
            "tensorflow-tensorboard==0.4.0\r\n",
            "terminado==0.8.1\r\n",
            "testpath==0.3.1\r\n",
            "tornado==4.4.3\r\n",
            "traitlets==4.3.2\r\n",
            "uritemplate==3.0.0\r\n",
            "urllib3==1.22\r\n",
            "wcwidth==0.1.7\r\n",
            "webencodings==0.5.1\r\n",
            "Werkzeug==0.14.1\r\n"
          ],
          "name": "stdout"
        }
      ]
    },
    {
      "metadata": {
        "id": "1KXWZ0W-Huma",
        "colab_type": "code",
        "colab": {
          "autoexec": {
            "startup": false,
            "wait_interval": 0
          },
          "output_extras": [
            {
              "item_id": 53
            }
          ],
          "base_uri": "https://localhost:8080/",
          "height": 136
        },
        "outputId": "402e044b-7f80-44b2-9e69-6a2ae16c67cb",
        "executionInfo": {
          "status": "ok",
          "timestamp": 1516710303782,
          "user_tz": -480,
          "elapsed": 28042,
          "user": {
            "displayName": "Yuan Yao",
            "photoUrl": "https://lh3.googleusercontent.com/a/default-user=s128",
            "userId": "109481376556887074430"
          }
        }
      },
      "source": [
        "! pip install http://download.pytorch.org/whl/cu80/torch-0.2.0.post3-cp36-cp36m-manylinux1_x86_64.whl"
      ],
      "cell_type": "code",
      "execution_count": 3,
      "outputs": [
        {
          "output_type": "stream",
          "text": [
            "Collecting torch==0.2.0.post3 from http://download.pytorch.org/whl/cu80/torch-0.2.0.post3-cp36-cp36m-manylinux1_x86_64.whl\n",
            "  Downloading http://download.pytorch.org/whl/cu80/torch-0.2.0.post3-cp36-cp36m-manylinux1_x86_64.whl (486.7MB)\n",
            "\u001b[K    100% |████████████████████████████████| 486.7MB 36.8MB/s \n",
            "\u001b[?25hRequirement already satisfied: pyyaml in /usr/local/lib/python3.6/dist-packages (from torch==0.2.0.post3)\n",
            "Requirement already satisfied: numpy in /usr/local/lib/python3.6/dist-packages (from torch==0.2.0.post3)\n",
            "Installing collected packages: torch\n",
            "Successfully installed torch-0.2.0.post3\n"
          ],
          "name": "stdout"
        }
      ]
    },
    {
      "metadata": {
        "id": "YIECinHwH2u-",
        "colab_type": "code",
        "colab": {
          "autoexec": {
            "startup": false,
            "wait_interval": 0
          },
          "output_extras": [
            {
              "item_id": 3
            }
          ],
          "base_uri": "https://localhost:8080/",
          "height": 187
        },
        "outputId": "6f71b1ea-1545-4b53-af84-45ec2bece15c",
        "executionInfo": {
          "status": "ok",
          "timestamp": 1516710308619,
          "user_tz": -480,
          "elapsed": 2590,
          "user": {
            "displayName": "Yuan Yao",
            "photoUrl": "https://lh3.googleusercontent.com/a/default-user=s128",
            "userId": "109481376556887074430"
          }
        }
      },
      "source": [
        "! pip install torchvision==0.1.8"
      ],
      "cell_type": "code",
      "execution_count": 4,
      "outputs": [
        {
          "output_type": "stream",
          "text": [
            "Collecting torchvision==0.1.8\n",
            "  Downloading torchvision-0.1.8-py2.py3-none-any.whl\n",
            "Requirement already satisfied: numpy in /usr/local/lib/python3.6/dist-packages (from torchvision==0.1.8)\n",
            "Requirement already satisfied: torch in /usr/local/lib/python3.6/dist-packages (from torchvision==0.1.8)\n",
            "Requirement already satisfied: six in /usr/local/lib/python3.6/dist-packages (from torchvision==0.1.8)\n",
            "Requirement already satisfied: pillow in /usr/local/lib/python3.6/dist-packages (from torchvision==0.1.8)\n",
            "Requirement already satisfied: pyyaml in /usr/local/lib/python3.6/dist-packages (from torch->torchvision==0.1.8)\n",
            "Requirement already satisfied: olefile in /usr/local/lib/python3.6/dist-packages (from pillow->torchvision==0.1.8)\n",
            "Installing collected packages: torchvision\n",
            "Successfully installed torchvision-0.1.8\n"
          ],
          "name": "stdout"
        }
      ]
    },
    {
      "metadata": {
        "id": "1IQykEcRHo7r",
        "colab_type": "text"
      },
      "source": [
        "\n",
        "Transfer Learning tutorial\n",
        "==========================\n",
        "**Author**: `Sasank Chilamkurthy <https://chsasank.github.io>`_\n",
        "\n",
        "In this tutorial, you will learn how to train your network using\n",
        "transfer learning. You can read more about the transfer learning at `cs231n\n",
        "notes <http://cs231n.github.io/transfer-learning/>`__\n",
        "\n",
        "Quoting this notes,\n",
        "\n",
        "    In practice, very few people train an entire Convolutional Network\n",
        "    from scratch (with random initialization), because it is relatively\n",
        "    rare to have a dataset of sufficient size. Instead, it is common to\n",
        "    pretrain a ConvNet on a very large dataset (e.g. ImageNet, which\n",
        "    contains 1.2 million images with 1000 categories), and then use the\n",
        "    ConvNet either as an initialization or a fixed feature extractor for\n",
        "    the task of interest.\n",
        "\n",
        "These two major transfer learning scenarios looks as follows:\n",
        "\n",
        "-  **Finetuning the convnet**: Instead of random initializaion, we\n",
        "   initialize the network with a pretrained network, like the one that is\n",
        "   trained on imagenet 1000 dataset. Rest of the training looks as\n",
        "   usual.\n",
        "-  **ConvNet as fixed feature extractor**: Here, we will freeze the weights\n",
        "   for all of the network except that of the final fully connected\n",
        "   layer. This last fully connected layer is replaced with a new one\n",
        "   with random weights and only this layer is trained.\n",
        "\n",
        "\n"
      ],
      "cell_type": "markdown"
    },
    {
      "metadata": {
        "id": "PTtBPfIFHo7s",
        "colab_type": "code",
        "colab": {
          "autoexec": {
            "startup": false,
            "wait_interval": 0
          }
        }
      },
      "source": [
        "# License: BSD\n",
        "# Author: Sasank Chilamkurthy\n",
        "\n",
        "from __future__ import print_function, division\n",
        "\n",
        "import torch\n",
        "import torch.nn as nn\n",
        "import torch.optim as optim\n",
        "from torch.optim import lr_scheduler\n",
        "from torch.autograd import Variable\n",
        "import numpy as np\n",
        "import torchvision\n",
        "from torchvision import datasets, models, transforms\n",
        "import matplotlib.pyplot as plt\n",
        "import time\n",
        "import os\n",
        "import copy\n",
        "\n",
        "plt.ion()   # interactive mode"
      ],
      "cell_type": "code",
      "execution_count": 0,
      "outputs": []
    },
    {
      "metadata": {
        "id": "-pblLykBHo7v",
        "colab_type": "text"
      },
      "source": [
        "Load Data\n",
        "---------\n",
        "\n",
        "We will use torchvision and torch.utils.data packages for loading the\n",
        "data.\n",
        "\n",
        "The problem we're going to solve today is to train a model to classify\n",
        "**ants** and **bees**. We have about 120 training images each for ants and bees.\n",
        "There are 75 validation images for each class. Usually, this is a very\n",
        "small dataset to generalize upon, if trained from scratch. Since we\n",
        "are using transfer learning, we should be able to generalize reasonably\n",
        "well.\n",
        "\n",
        "This dataset is a very small subset of imagenet.\n",
        "\n",
        ".. Note ::\n",
        "   Download the data from\n",
        "   `here <https://download.pytorch.org/tutorial/hymenoptera_data.zip>`_\n",
        "   and extract it to the current directory.\n",
        "\n"
      ],
      "cell_type": "markdown"
    },
    {
      "metadata": {
        "id": "-RWLsDhhH5G-",
        "colab_type": "code",
        "colab": {
          "autoexec": {
            "startup": false,
            "wait_interval": 0
          },
          "output_extras": [
            {
              "item_id": 12
            }
          ],
          "base_uri": "https://localhost:8080/",
          "height": 204
        },
        "outputId": "4f2f4d87-10da-4edc-86af-73de8ad1e27a",
        "executionInfo": {
          "status": "ok",
          "timestamp": 1516710332779,
          "user_tz": -480,
          "elapsed": 3611,
          "user": {
            "displayName": "Yuan Yao",
            "photoUrl": "https://lh3.googleusercontent.com/a/default-user=s128",
            "userId": "109481376556887074430"
          }
        }
      },
      "source": [
        "! wget -O hymenoptera_data.zip \"https://download.pytorch.org/tutorial/hymenoptera_data.zip\""
      ],
      "cell_type": "code",
      "execution_count": 6,
      "outputs": [
        {
          "output_type": "stream",
          "text": [
            "--2018-01-23 12:25:29--  https://download.pytorch.org/tutorial/hymenoptera_data.zip\r\n",
            "Resolving download.pytorch.org (download.pytorch.org)... 54.192.81.65, 54.192.81.80, 54.192.81.161, ...\n",
            "Connecting to download.pytorch.org (download.pytorch.org)|54.192.81.65|:443... connected.\n",
            "HTTP request sent, awaiting response... 200 OK\n",
            "Length: 47286322 (45M) [application/zip]\n",
            "Saving to: ‘hymenoptera_data.zip’\n",
            "\n",
            "hymenoptera_data.zi 100%[===================>]  45.10M  21.3MB/s    in 2.1s    \n",
            "\n",
            "2018-01-23 12:25:32 (21.3 MB/s) - ‘hymenoptera_data.zip’ saved [47286322/47286322]\n",
            "\n"
          ],
          "name": "stdout"
        }
      ]
    },
    {
      "metadata": {
        "id": "IGDnCEeCH8xo",
        "colab_type": "code",
        "colab": {
          "autoexec": {
            "startup": false,
            "wait_interval": 0
          },
          "output_extras": [
            {
              "item_id": 4
            },
            {
              "item_id": 5
            }
          ],
          "base_uri": "https://localhost:8080/",
          "height": 6919
        },
        "outputId": "9137a245-dbec-45d5-930f-12a63afa26b3",
        "executionInfo": {
          "status": "ok",
          "timestamp": 1516710335409,
          "user_tz": -480,
          "elapsed": 1645,
          "user": {
            "displayName": "Yuan Yao",
            "photoUrl": "https://lh3.googleusercontent.com/a/default-user=s128",
            "userId": "109481376556887074430"
          }
        }
      },
      "source": [
        "! unzip hymenoptera_data.zip"
      ],
      "cell_type": "code",
      "execution_count": 7,
      "outputs": [
        {
          "output_type": "stream",
          "text": [
            "Archive:  hymenoptera_data.zip\r\n",
            "   creating: hymenoptera_data/\r\n",
            "   creating: hymenoptera_data/train/\r\n",
            "   creating: hymenoptera_data/train/ants/\r\n",
            "  inflating: hymenoptera_data/train/ants/0013035.jpg  \r\n",
            "  inflating: hymenoptera_data/train/ants/1030023514_aad5c608f9.jpg  \r\n",
            "  inflating: hymenoptera_data/train/ants/1095476100_3906d8afde.jpg  \r\n",
            "  inflating: hymenoptera_data/train/ants/1099452230_d1949d3250.jpg  \r\n",
            "  inflating: hymenoptera_data/train/ants/116570827_e9c126745d.jpg  \r\n",
            "  inflating: hymenoptera_data/train/ants/1225872729_6f0856588f.jpg  \r\n",
            "  inflating: hymenoptera_data/train/ants/1262877379_64fcada201.jpg  \r\n",
            "  inflating: hymenoptera_data/train/ants/1269756697_0bce92cdab.jpg  \r\n",
            "  inflating: hymenoptera_data/train/ants/1286984635_5119e80de1.jpg  \r\n",
            "  inflating: hymenoptera_data/train/ants/132478121_2a430adea2.jpg  \r\n",
            "  inflating: hymenoptera_data/train/ants/1360291657_dc248c5eea.jpg  \r\n",
            "  inflating: hymenoptera_data/train/ants/1368913450_e146e2fb6d.jpg  \r\n",
            "  inflating: hymenoptera_data/train/ants/1473187633_63ccaacea6.jpg  \r\n",
            "  inflating: hymenoptera_data/train/ants/148715752_302c84f5a4.jpg  \r\n",
            "  inflating: hymenoptera_data/train/ants/1489674356_09d48dde0a.jpg  \r\n",
            "  inflating: hymenoptera_data/train/ants/149244013_c529578289.jpg  \r\n",
            "  inflating: hymenoptera_data/train/ants/150801003_3390b73135.jpg  \r\n",
            "  inflating: hymenoptera_data/train/ants/150801171_cd86f17ed8.jpg  \r\n",
            "  inflating: hymenoptera_data/train/ants/154124431_65460430f2.jpg  \r\n",
            "  inflating: hymenoptera_data/train/ants/162603798_40b51f1654.jpg  \r\n",
            "  inflating: hymenoptera_data/train/ants/1660097129_384bf54490.jpg  \r\n",
            "  inflating: hymenoptera_data/train/ants/167890289_dd5ba923f3.jpg  \r\n",
            "  inflating: hymenoptera_data/train/ants/1693954099_46d4c20605.jpg  \r\n",
            "  inflating: hymenoptera_data/train/ants/175998972.jpg  \r\n",
            "  inflating: hymenoptera_data/train/ants/178538489_bec7649292.jpg  \r\n",
            "  inflating: hymenoptera_data/train/ants/1804095607_0341701e1c.jpg  \r\n",
            "  inflating: hymenoptera_data/train/ants/1808777855_2a895621d7.jpg  \r\n",
            "  inflating: hymenoptera_data/train/ants/188552436_605cc9b36b.jpg  \r\n",
            "  inflating: hymenoptera_data/train/ants/1917341202_d00a7f9af5.jpg  \r\n",
            "  inflating: hymenoptera_data/train/ants/1924473702_daa9aacdbe.jpg  \r\n",
            "  inflating: hymenoptera_data/train/ants/196057951_63bf063b92.jpg  \r\n",
            "  inflating: hymenoptera_data/train/ants/196757565_326437f5fe.jpg  \r\n",
            "  inflating: hymenoptera_data/train/ants/201558278_fe4caecc76.jpg  \r\n",
            "  inflating: hymenoptera_data/train/ants/201790779_527f4c0168.jpg  \r\n",
            "  inflating: hymenoptera_data/train/ants/2019439677_2db655d361.jpg  \r\n",
            "  inflating: hymenoptera_data/train/ants/207947948_3ab29d7207.jpg  \r\n",
            "  inflating: hymenoptera_data/train/ants/20935278_9190345f6b.jpg  \r\n",
            "  inflating: hymenoptera_data/train/ants/224655713_3956f7d39a.jpg  \r\n",
            "  inflating: hymenoptera_data/train/ants/2265824718_2c96f485da.jpg  \r\n",
            "  inflating: hymenoptera_data/train/ants/2265825502_fff99cfd2d.jpg  \r\n",
            "  inflating: hymenoptera_data/train/ants/226951206_d6bf946504.jpg  \r\n",
            "  inflating: hymenoptera_data/train/ants/2278278459_6b99605e50.jpg  \n",
            "  inflating: hymenoptera_data/train/ants/2288450226_a6e96e8fdf.jpg  \n",
            "  inflating: hymenoptera_data/train/ants/2288481644_83ff7e4572.jpg  \n",
            "  inflating: hymenoptera_data/train/ants/2292213964_ca51ce4bef.jpg  \n",
            "  inflating: hymenoptera_data/train/ants/24335309_c5ea483bb8.jpg  \n",
            "  inflating: hymenoptera_data/train/ants/245647475_9523dfd13e.jpg  \n",
            "  inflating: hymenoptera_data/train/ants/255434217_1b2b3fe0a4.jpg  \n",
            "  inflating: hymenoptera_data/train/ants/258217966_d9d90d18d3.jpg  \n",
            "  inflating: hymenoptera_data/train/ants/275429470_b2d7d9290b.jpg  \n",
            "  inflating: hymenoptera_data/train/ants/28847243_e79fe052cd.jpg  \n",
            "  inflating: hymenoptera_data/train/ants/318052216_84dff3f98a.jpg  \n",
            "  inflating: hymenoptera_data/train/ants/334167043_cbd1adaeb9.jpg  \n",
            "  inflating: hymenoptera_data/train/ants/339670531_94b75ae47a.jpg  \n",
            "  inflating: hymenoptera_data/train/ants/342438950_a3da61deab.jpg  \n",
            "  inflating: hymenoptera_data/train/ants/36439863_0bec9f554f.jpg  \n",
            "  inflating: hymenoptera_data/train/ants/374435068_7eee412ec4.jpg  \n",
            "  inflating: hymenoptera_data/train/ants/382971067_0bfd33afe0.jpg  \n",
            "  inflating: hymenoptera_data/train/ants/384191229_5779cf591b.jpg  \n",
            "  inflating: hymenoptera_data/train/ants/386190770_672743c9a7.jpg  \n",
            "  inflating: hymenoptera_data/train/ants/392382602_1b7bed32fa.jpg  \n",
            "  inflating: hymenoptera_data/train/ants/403746349_71384f5b58.jpg  \n",
            "  inflating: hymenoptera_data/train/ants/408393566_b5b694119b.jpg  \n",
            "  inflating: hymenoptera_data/train/ants/424119020_6d57481dab.jpg  \n",
            "  inflating: hymenoptera_data/train/ants/424873399_47658a91fb.jpg  \n",
            "  inflating: hymenoptera_data/train/ants/450057712_771b3bfc91.jpg  \n",
            "  inflating: hymenoptera_data/train/ants/45472593_bfd624f8dc.jpg  \n",
            "  inflating: hymenoptera_data/train/ants/459694881_ac657d3187.jpg  \n",
            "  inflating: hymenoptera_data/train/ants/460372577_f2f6a8c9fc.jpg  \n",
            "  inflating: hymenoptera_data/train/ants/460874319_0a45ab4d05.jpg  \n",
            "  inflating: hymenoptera_data/train/ants/466430434_4000737de9.jpg  \n",
            "  inflating: hymenoptera_data/train/ants/470127037_513711fd21.jpg  \n",
            "  inflating: hymenoptera_data/train/ants/474806473_ca6caab245.jpg  \n",
            "  inflating: hymenoptera_data/train/ants/475961153_b8c13fd405.jpg  \n",
            "  inflating: hymenoptera_data/train/ants/484293231_e53cfc0c89.jpg  \n",
            "  inflating: hymenoptera_data/train/ants/49375974_e28ba6f17e.jpg  \n",
            "  inflating: hymenoptera_data/train/ants/506249802_207cd979b4.jpg  \n",
            "  inflating: hymenoptera_data/train/ants/506249836_717b73f540.jpg  \n",
            "  inflating: hymenoptera_data/train/ants/512164029_c0a66b8498.jpg  \n",
            "  inflating: hymenoptera_data/train/ants/512863248_43c8ce579b.jpg  \n",
            "  inflating: hymenoptera_data/train/ants/518773929_734dbc5ff4.jpg  \n",
            "  inflating: hymenoptera_data/train/ants/522163566_fec115ca66.jpg  \n",
            "  inflating: hymenoptera_data/train/ants/522415432_2218f34bf8.jpg  \n",
            "  inflating: hymenoptera_data/train/ants/531979952_bde12b3bc0.jpg  \n",
            "  inflating: hymenoptera_data/train/ants/533848102_70a85ad6dd.jpg  \n",
            "  inflating: hymenoptera_data/train/ants/535522953_308353a07c.jpg  \n",
            "  inflating: hymenoptera_data/train/ants/540889389_48bb588b21.jpg  \n",
            "  inflating: hymenoptera_data/train/ants/541630764_dbd285d63c.jpg  \n",
            "  inflating: hymenoptera_data/train/ants/543417860_b14237f569.jpg  \n",
            "  inflating: hymenoptera_data/train/ants/560966032_988f4d7bc4.jpg  \n",
            "  inflating: hymenoptera_data/train/ants/5650366_e22b7e1065.jpg  \n",
            "  inflating: hymenoptera_data/train/ants/6240329_72c01e663e.jpg  \n",
            "  inflating: hymenoptera_data/train/ants/6240338_93729615ec.jpg  \n",
            "  inflating: hymenoptera_data/train/ants/649026570_e58656104b.jpg  \n",
            "  inflating: hymenoptera_data/train/ants/662541407_ff8db781e7.jpg  \n",
            "  inflating: hymenoptera_data/train/ants/67270775_e9fdf77e9d.jpg  \n",
            "  inflating: hymenoptera_data/train/ants/6743948_2b8c096dda.jpg  \n",
            "  inflating: hymenoptera_data/train/ants/684133190_35b62c0c1d.jpg  \n",
            "  inflating: hymenoptera_data/train/ants/69639610_95e0de17aa.jpg  \n",
            "  inflating: hymenoptera_data/train/ants/707895295_009cf23188.jpg  \n",
            "  inflating: hymenoptera_data/train/ants/7759525_1363d24e88.jpg  \n",
            "  inflating: hymenoptera_data/train/ants/795000156_a9900a4a71.jpg  \n",
            "  inflating: hymenoptera_data/train/ants/822537660_caf4ba5514.jpg  \n",
            "  inflating: hymenoptera_data/train/ants/82852639_52b7f7f5e3.jpg  \n",
            "  inflating: hymenoptera_data/train/ants/841049277_b28e58ad05.jpg  \n",
            "  inflating: hymenoptera_data/train/ants/886401651_f878e888cd.jpg  \n",
            "  inflating: hymenoptera_data/train/ants/892108839_f1aad4ca46.jpg  \n",
            "  inflating: hymenoptera_data/train/ants/938946700_ca1c669085.jpg  \n",
            "  inflating: hymenoptera_data/train/ants/957233405_25c1d1187b.jpg  \n",
            "  inflating: hymenoptera_data/train/ants/9715481_b3cb4114ff.jpg  \n",
            "  inflating: hymenoptera_data/train/ants/998118368_6ac1d91f81.jpg  \n",
            "  inflating: hymenoptera_data/train/ants/ant photos.jpg  \n",
            "  inflating: hymenoptera_data/train/ants/Ant_1.jpg  \n",
            "  inflating: hymenoptera_data/train/ants/army-ants-red-picture.jpg  \n",
            "  inflating: hymenoptera_data/train/ants/formica.jpeg  \n",
            "  inflating: hymenoptera_data/train/ants/hormiga_co_por.jpg  \n",
            "  inflating: hymenoptera_data/train/ants/imageNotFound.gif  \n",
            "  inflating: hymenoptera_data/train/ants/kurokusa.jpg  \n",
            "  inflating: hymenoptera_data/train/ants/MehdiabadiAnt2_600.jpg  \n",
            "  inflating: hymenoptera_data/train/ants/Nepenthes_rafflesiana_ant.jpg  \n",
            "  inflating: hymenoptera_data/train/ants/swiss-army-ant.jpg  \n",
            "  inflating: hymenoptera_data/train/ants/termite-vs-ant.jpg  \n",
            "  inflating: hymenoptera_data/train/ants/trap-jaw-ant-insect-bg.jpg  \n",
            "  inflating: hymenoptera_data/train/ants/VietnameseAntMimicSpider.jpg  \n",
            "   creating: hymenoptera_data/train/bees/\n",
            "  inflating: hymenoptera_data/train/bees/1092977343_cb42b38d62.jpg  \n",
            "  inflating: hymenoptera_data/train/bees/1093831624_fb5fbe2308.jpg  \n",
            "  inflating: hymenoptera_data/train/bees/1097045929_1753d1c765.jpg  \n",
            "  inflating: hymenoptera_data/train/bees/1232245714_f862fbe385.jpg  \n",
            "  inflating: hymenoptera_data/train/bees/129236073_0985e91c7d.jpg  \n",
            "  inflating: hymenoptera_data/train/bees/1295655112_7813f37d21.jpg  \n",
            "  inflating: hymenoptera_data/train/bees/132511197_0b86ad0fff.jpg  \n",
            "  inflating: hymenoptera_data/train/bees/132826773_dbbcb117b9.jpg  \n",
            "  inflating: hymenoptera_data/train/bees/150013791_969d9a968b.jpg  \n",
            "  inflating: hymenoptera_data/train/bees/1508176360_2972117c9d.jpg  \n",
            "  inflating: hymenoptera_data/train/bees/154600396_53e1252e52.jpg  \n",
            "  inflating: hymenoptera_data/train/bees/16838648_415acd9e3f.jpg  \n",
            "  inflating: hymenoptera_data/train/bees/1691282715_0addfdf5e8.jpg  \n",
            "  inflating: hymenoptera_data/train/bees/17209602_fe5a5a746f.jpg  \n",
            "  inflating: hymenoptera_data/train/bees/174142798_e5ad6d76e0.jpg  \n",
            "  inflating: hymenoptera_data/train/bees/1799726602_8580867f71.jpg  \n",
            "  inflating: hymenoptera_data/train/bees/1807583459_4fe92b3133.jpg  \n",
            "  inflating: hymenoptera_data/train/bees/196430254_46bd129ae7.jpg  \n",
            "  inflating: hymenoptera_data/train/bees/196658222_3fffd79c67.jpg  \n",
            "  inflating: hymenoptera_data/train/bees/198508668_97d818b6c4.jpg  \n",
            "  inflating: hymenoptera_data/train/bees/2031225713_50ed499635.jpg  \n",
            "  inflating: hymenoptera_data/train/bees/2037437624_2d7bce461f.jpg  \n",
            "  inflating: hymenoptera_data/train/bees/2053200300_8911ef438a.jpg  \n",
            "  inflating: hymenoptera_data/train/bees/205835650_e6f2614bee.jpg  \n",
            "  inflating: hymenoptera_data/train/bees/208702903_42fb4d9748.jpg  \n",
            "  inflating: hymenoptera_data/train/bees/21399619_3e61e5bb6f.jpg  \n",
            "  inflating: hymenoptera_data/train/bees/2227611847_ec72d40403.jpg  \n",
            "  inflating: hymenoptera_data/train/bees/2321139806_d73d899e66.jpg  \n",
            "  inflating: hymenoptera_data/train/bees/2330918208_8074770c20.jpg  \n",
            "  inflating: hymenoptera_data/train/bees/2345177635_caf07159b3.jpg  \n",
            "  inflating: hymenoptera_data/train/bees/2358061370_9daabbd9ac.jpg  \n",
            "  inflating: hymenoptera_data/train/bees/2364597044_3c3e3fc391.jpg  \n",
            "  inflating: hymenoptera_data/train/bees/2384149906_2cd8b0b699.jpg  \n",
            "  inflating: hymenoptera_data/train/bees/2397446847_04ef3cd3e1.jpg  \n",
            "  inflating: hymenoptera_data/train/bees/2405441001_b06c36fa72.jpg  \n",
            "  inflating: hymenoptera_data/train/bees/2445215254_51698ff797.jpg  \n",
            "  inflating: hymenoptera_data/train/bees/2452236943_255bfd9e58.jpg  \n",
            "  inflating: hymenoptera_data/train/bees/2467959963_a7831e9ff0.jpg  \n",
            "  inflating: hymenoptera_data/train/bees/2470492904_837e97800d.jpg  \n",
            "  inflating: hymenoptera_data/train/bees/2477324698_3d4b1b1cab.jpg  \n",
            "  inflating: hymenoptera_data/train/bees/2477349551_e75c97cf4d.jpg  \n",
            "  inflating: hymenoptera_data/train/bees/2486729079_62df0920be.jpg  \n",
            "  inflating: hymenoptera_data/train/bees/2486746709_c43cec0e42.jpg  \n",
            "  inflating: hymenoptera_data/train/bees/2493379287_4100e1dacc.jpg  \n",
            "  inflating: hymenoptera_data/train/bees/2495722465_879acf9d85.jpg  \n",
            "  inflating: hymenoptera_data/train/bees/2528444139_fa728b0f5b.jpg  \n",
            "  inflating: hymenoptera_data/train/bees/2538361678_9da84b77e3.jpg  \n",
            "  inflating: hymenoptera_data/train/bees/2551813042_8a070aeb2b.jpg  \n",
            "  inflating: hymenoptera_data/train/bees/2580598377_a4caecdb54.jpg  \n",
            "  inflating: hymenoptera_data/train/bees/2601176055_8464e6aa71.jpg  \n",
            "  inflating: hymenoptera_data/train/bees/2610833167_79bf0bcae5.jpg  \n",
            "  inflating: hymenoptera_data/train/bees/2610838525_fe8e3cae47.jpg  \n",
            "  inflating: hymenoptera_data/train/bees/2617161745_fa3ebe85b4.jpg  \n",
            "  inflating: hymenoptera_data/train/bees/2625499656_e3415e374d.jpg  \n",
            "  inflating: hymenoptera_data/train/bees/2634617358_f32fd16bea.jpg  \n",
            "  inflating: hymenoptera_data/train/bees/2638074627_6b3ae746a0.jpg  \n",
            "  inflating: hymenoptera_data/train/bees/2645107662_b73a8595cc.jpg  \n",
            "  inflating: hymenoptera_data/train/bees/2651621464_a2fa8722eb.jpg  \n",
            "  inflating: hymenoptera_data/train/bees/2652877533_a564830cbf.jpg  \n",
            "  inflating: hymenoptera_data/train/bees/266644509_d30bb16a1b.jpg  \n",
            "  inflating: hymenoptera_data/train/bees/2683605182_9d2a0c66cf.jpg  \n",
            "  inflating: hymenoptera_data/train/bees/2704348794_eb5d5178c2.jpg  \n",
            "  inflating: hymenoptera_data/train/bees/2707440199_cd170bd512.jpg  \n",
            "  inflating: hymenoptera_data/train/bees/2710368626_cb42882dc8.jpg  \n",
            "  inflating: hymenoptera_data/train/bees/2722592222_258d473e17.jpg  \n",
            "  inflating: hymenoptera_data/train/bees/2728759455_ce9bb8cd7a.jpg  \n",
            "  inflating: hymenoptera_data/train/bees/2756397428_1d82a08807.jpg  \n",
            "  inflating: hymenoptera_data/train/bees/2765347790_da6cf6cb40.jpg  \n",
            "  inflating: hymenoptera_data/train/bees/2781170484_5d61835d63.jpg  \n",
            "  inflating: hymenoptera_data/train/bees/279113587_b4843db199.jpg  \n",
            "  inflating: hymenoptera_data/train/bees/2792000093_e8ae0718cf.jpg  \n",
            "  inflating: hymenoptera_data/train/bees/2801728106_833798c909.jpg  \n",
            "  inflating: hymenoptera_data/train/bees/2822388965_f6dca2a275.jpg  \n",
            "  inflating: hymenoptera_data/train/bees/2861002136_52c7c6f708.jpg  \n",
            "  inflating: hymenoptera_data/train/bees/2908916142_a7ac8b57a8.jpg  \n",
            "  inflating: hymenoptera_data/train/bees/29494643_e3410f0d37.jpg  \n",
            "  inflating: hymenoptera_data/train/bees/2959730355_416a18c63c.jpg  \n",
            "  inflating: hymenoptera_data/train/bees/2962405283_22718d9617.jpg  \n",
            "  inflating: hymenoptera_data/train/bees/3006264892_30e9cced70.jpg  \n",
            "  inflating: hymenoptera_data/train/bees/3030189811_01d095b793.jpg  \n",
            "  inflating: hymenoptera_data/train/bees/3030772428_8578335616.jpg  \n",
            "  inflating: hymenoptera_data/train/bees/3044402684_3853071a87.jpg  \n",
            "  inflating: hymenoptera_data/train/bees/3074585407_9854eb3153.jpg  \n",
            "  inflating: hymenoptera_data/train/bees/3079610310_ac2d0ae7bc.jpg  \n",
            "  inflating: hymenoptera_data/train/bees/3090975720_71f12e6de4.jpg  \n",
            "  inflating: hymenoptera_data/train/bees/3100226504_c0d4f1e3f1.jpg  \n",
            "  inflating: hymenoptera_data/train/bees/342758693_c56b89b6b6.jpg  \n",
            "  inflating: hymenoptera_data/train/bees/354167719_22dca13752.jpg  \n",
            "  inflating: hymenoptera_data/train/bees/359928878_b3b418c728.jpg  \n",
            "  inflating: hymenoptera_data/train/bees/365759866_b15700c59b.jpg  \n",
            "  inflating: hymenoptera_data/train/bees/36900412_92b81831ad.jpg  \n",
            "  inflating: hymenoptera_data/train/bees/39672681_1302d204d1.jpg  \n",
            "  inflating: hymenoptera_data/train/bees/39747887_42df2855ee.jpg  \n",
            "  inflating: hymenoptera_data/train/bees/421515404_e87569fd8b.jpg  \n",
            "  inflating: hymenoptera_data/train/bees/444532809_9e931e2279.jpg  \n",
            "  inflating: hymenoptera_data/train/bees/446296270_d9e8b93ecf.jpg  \n",
            "  inflating: hymenoptera_data/train/bees/452462677_7be43af8ff.jpg  \n",
            "  inflating: hymenoptera_data/train/bees/452462695_40a4e5b559.jpg  \n",
            "  inflating: hymenoptera_data/train/bees/457457145_5f86eb7e9c.jpg  \n",
            "  inflating: hymenoptera_data/train/bees/465133211_80e0c27f60.jpg  \n",
            "  inflating: hymenoptera_data/train/bees/469333327_358ba8fe8a.jpg  \n",
            "  inflating: hymenoptera_data/train/bees/472288710_2abee16fa0.jpg  \n",
            "  inflating: hymenoptera_data/train/bees/473618094_8ffdcab215.jpg  \n",
            "  inflating: hymenoptera_data/train/bees/476347960_52edd72b06.jpg  \n",
            "  inflating: hymenoptera_data/train/bees/478701318_bbd5e557b8.jpg  \n",
            "  inflating: hymenoptera_data/train/bees/507288830_f46e8d4cb2.jpg  \n",
            "  inflating: hymenoptera_data/train/bees/509247772_2db2d01374.jpg  \n",
            "  inflating: hymenoptera_data/train/bees/513545352_fd3e7c7c5d.jpg  \n",
            "  inflating: hymenoptera_data/train/bees/522104315_5d3cb2758e.jpg  \n",
            "  inflating: hymenoptera_data/train/bees/537309131_532bfa59ea.jpg  \n",
            "  inflating: hymenoptera_data/train/bees/586041248_3032e277a9.jpg  \n",
            "  inflating: hymenoptera_data/train/bees/760526046_547e8b381f.jpg  \n",
            "  inflating: hymenoptera_data/train/bees/760568592_45a52c847f.jpg  \n",
            "  inflating: hymenoptera_data/train/bees/774440991_63a4aa0cbe.jpg  \n",
            "  inflating: hymenoptera_data/train/bees/85112639_6e860b0469.jpg  \n",
            "  inflating: hymenoptera_data/train/bees/873076652_eb098dab2d.jpg  \n",
            "  inflating: hymenoptera_data/train/bees/90179376_abc234e5f4.jpg  \n",
            "  inflating: hymenoptera_data/train/bees/92663402_37f379e57a.jpg  \n",
            "  inflating: hymenoptera_data/train/bees/95238259_98470c5b10.jpg  \n",
            "  inflating: hymenoptera_data/train/bees/969455125_58c797ef17.jpg  \n",
            "  inflating: hymenoptera_data/train/bees/98391118_bdb1e80cce.jpg  \n",
            "   creating: hymenoptera_data/val/\n",
            "   creating: hymenoptera_data/val/ants/\n",
            "  inflating: hymenoptera_data/val/ants/10308379_1b6c72e180.jpg  \n",
            "  inflating: hymenoptera_data/val/ants/1053149811_f62a3410d3.jpg  \n",
            "  inflating: hymenoptera_data/val/ants/1073564163_225a64f170.jpg  \n",
            "  inflating: hymenoptera_data/val/ants/1119630822_cd325ea21a.jpg  \n",
            "  inflating: hymenoptera_data/val/ants/1124525276_816a07c17f.jpg  \n",
            "  inflating: hymenoptera_data/val/ants/11381045_b352a47d8c.jpg  \n",
            "  inflating: hymenoptera_data/val/ants/119785936_dd428e40c3.jpg  \n",
            "  inflating: hymenoptera_data/val/ants/1247887232_edcb61246c.jpg  \n",
            "  inflating: hymenoptera_data/val/ants/1262751255_c56c042b7b.jpg  \n",
            "  inflating: hymenoptera_data/val/ants/1337725712_2eb53cd742.jpg  \n",
            "  inflating: hymenoptera_data/val/ants/1358854066_5ad8015f7f.jpg  \n",
            "  inflating: hymenoptera_data/val/ants/1440002809_b268d9a66a.jpg  \n",
            "  inflating: hymenoptera_data/val/ants/147542264_79506478c2.jpg  \n",
            "  inflating: hymenoptera_data/val/ants/152286280_411648ec27.jpg  \n",
            "  inflating: hymenoptera_data/val/ants/153320619_2aeb5fa0ee.jpg  \n",
            "  inflating: hymenoptera_data/val/ants/153783656_85f9c3ac70.jpg  \n",
            "  inflating: hymenoptera_data/val/ants/157401988_d0564a9d02.jpg  \n",
            "  inflating: hymenoptera_data/val/ants/159515240_d5981e20d1.jpg  \n",
            "  inflating: hymenoptera_data/val/ants/161076144_124db762d6.jpg  \n",
            "  inflating: hymenoptera_data/val/ants/161292361_c16e0bf57a.jpg  \n",
            "  inflating: hymenoptera_data/val/ants/170652283_ecdaff5d1a.jpg  \n",
            "  inflating: hymenoptera_data/val/ants/17081114_79b9a27724.jpg  \n",
            "  inflating: hymenoptera_data/val/ants/172772109_d0a8e15fb0.jpg  \n",
            "  inflating: hymenoptera_data/val/ants/1743840368_b5ccda82b7.jpg  \n",
            "  inflating: hymenoptera_data/val/ants/181942028_961261ef48.jpg  \n",
            "  inflating: hymenoptera_data/val/ants/183260961_64ab754c97.jpg  \n",
            "  inflating: hymenoptera_data/val/ants/2039585088_c6f47c592e.jpg  \n",
            "  inflating: hymenoptera_data/val/ants/205398178_c395c5e460.jpg  \n",
            "  inflating: hymenoptera_data/val/ants/208072188_f293096296.jpg  \n",
            "  inflating: hymenoptera_data/val/ants/209615353_eeb38ba204.jpg  \n",
            "  inflating: hymenoptera_data/val/ants/2104709400_8831b4fc6f.jpg  \n",
            "  inflating: hymenoptera_data/val/ants/212100470_b485e7b7b9.jpg  \n",
            "  inflating: hymenoptera_data/val/ants/2127908701_d49dc83c97.jpg  \n",
            "  inflating: hymenoptera_data/val/ants/2191997003_379df31291.jpg  \n",
            "  inflating: hymenoptera_data/val/ants/2211974567_ee4606b493.jpg  \n",
            "  inflating: hymenoptera_data/val/ants/2219621907_47bc7cc6b0.jpg  \n",
            "  inflating: hymenoptera_data/val/ants/2238242353_52c82441df.jpg  \n",
            "  inflating: hymenoptera_data/val/ants/2255445811_dabcdf7258.jpg  \n",
            "  inflating: hymenoptera_data/val/ants/239161491_86ac23b0a3.jpg  \n",
            "  inflating: hymenoptera_data/val/ants/263615709_cfb28f6b8e.jpg  \n",
            "  inflating: hymenoptera_data/val/ants/308196310_1db5ffa01b.jpg  \n",
            "  inflating: hymenoptera_data/val/ants/319494379_648fb5a1c6.jpg  \n",
            "  inflating: hymenoptera_data/val/ants/35558229_1fa4608a7a.jpg  \n",
            "  inflating: hymenoptera_data/val/ants/412436937_4c2378efc2.jpg  \n",
            "  inflating: hymenoptera_data/val/ants/436944325_d4925a38c7.jpg  \n",
            "  inflating: hymenoptera_data/val/ants/445356866_6cb3289067.jpg  \n",
            "  inflating: hymenoptera_data/val/ants/459442412_412fecf3fe.jpg  \n",
            "  inflating: hymenoptera_data/val/ants/470127071_8b8ee2bd74.jpg  \n",
            "  inflating: hymenoptera_data/val/ants/477437164_bc3e6e594a.jpg  \n",
            "  inflating: hymenoptera_data/val/ants/488272201_c5aa281348.jpg  \n",
            "  inflating: hymenoptera_data/val/ants/502717153_3e4865621a.jpg  \n",
            "  inflating: hymenoptera_data/val/ants/518746016_bcc28f8b5b.jpg  \n",
            "  inflating: hymenoptera_data/val/ants/540543309_ddbb193ee5.jpg  \n",
            "  inflating: hymenoptera_data/val/ants/562589509_7e55469b97.jpg  \n",
            "  inflating: hymenoptera_data/val/ants/57264437_a19006872f.jpg  \n",
            "  inflating: hymenoptera_data/val/ants/573151833_ebbc274b77.jpg  \n",
            "  inflating: hymenoptera_data/val/ants/649407494_9b6bc4949f.jpg  \n",
            "  inflating: hymenoptera_data/val/ants/751649788_78dd7d16ce.jpg  \n",
            "  inflating: hymenoptera_data/val/ants/768870506_8f115d3d37.jpg  \n",
            "  inflating: hymenoptera_data/val/ants/800px-Meat_eater_ant_qeen_excavating_hole.jpg  \n",
            "  inflating: hymenoptera_data/val/ants/8124241_36b290d372.jpg  \n",
            "  inflating: hymenoptera_data/val/ants/8398478_50ef10c47a.jpg  \n",
            "  inflating: hymenoptera_data/val/ants/854534770_31f6156383.jpg  \n",
            "  inflating: hymenoptera_data/val/ants/892676922_4ab37dce07.jpg  \n",
            "  inflating: hymenoptera_data/val/ants/94999827_36895faade.jpg  \n",
            "  inflating: hymenoptera_data/val/ants/Ant-1818.jpg  \n",
            "  inflating: hymenoptera_data/val/ants/ants-devouring-remains-of-large-dead-insect-on-red-tile-in-Stellenbosch-South-Africa-closeup-1-DHD.jpg  \n",
            "  inflating: hymenoptera_data/val/ants/desert_ant.jpg  \n",
            "  inflating: hymenoptera_data/val/ants/F.pergan.28(f).jpg  \n",
            "  inflating: hymenoptera_data/val/ants/Hormiga.jpg  \n",
            "   creating: hymenoptera_data/val/bees/\n",
            "  inflating: hymenoptera_data/val/bees/1032546534_06907fe3b3.jpg  \n",
            "  inflating: hymenoptera_data/val/bees/10870992_eebeeb3a12.jpg  \n",
            "  inflating: hymenoptera_data/val/bees/1181173278_23c36fac71.jpg  \n",
            "  inflating: hymenoptera_data/val/bees/1297972485_33266a18d9.jpg  \n",
            "  inflating: hymenoptera_data/val/bees/1328423762_f7a88a8451.jpg  \n",
            "  inflating: hymenoptera_data/val/bees/1355974687_1341c1face.jpg  \n",
            "  inflating: hymenoptera_data/val/bees/144098310_a4176fd54d.jpg  \n",
            "  inflating: hymenoptera_data/val/bees/1486120850_490388f84b.jpg  \n",
            "  inflating: hymenoptera_data/val/bees/149973093_da3c446268.jpg  \n",
            "  inflating: hymenoptera_data/val/bees/151594775_ee7dc17b60.jpg  \n",
            "  inflating: hymenoptera_data/val/bees/151603988_2c6f7d14c7.jpg  \n",
            "  inflating: hymenoptera_data/val/bees/1519368889_4270261ee3.jpg  \n",
            "  inflating: hymenoptera_data/val/bees/152789693_220b003452.jpg  \n",
            "  inflating: hymenoptera_data/val/bees/177677657_a38c97e572.jpg  \n",
            "  inflating: hymenoptera_data/val/bees/1799729694_0c40101071.jpg  \n",
            "  inflating: hymenoptera_data/val/bees/181171681_c5a1a82ded.jpg  \n",
            "  inflating: hymenoptera_data/val/bees/187130242_4593a4c610.jpg  "
          ],
          "name": "stdout"
        },
        {
          "output_type": "stream",
          "text": [
            "\r\n",
            "  inflating: hymenoptera_data/val/bees/203868383_0fcbb48278.jpg  \r\n",
            "  inflating: hymenoptera_data/val/bees/2060668999_e11edb10d0.jpg  \r\n",
            "  inflating: hymenoptera_data/val/bees/2086294791_6f3789d8a6.jpg  \r\n",
            "  inflating: hymenoptera_data/val/bees/2103637821_8d26ee6b90.jpg  \r\n",
            "  inflating: hymenoptera_data/val/bees/2104135106_a65eede1de.jpg  \r\n",
            "  inflating: hymenoptera_data/val/bees/215512424_687e1e0821.jpg  \r\n",
            "  inflating: hymenoptera_data/val/bees/2173503984_9c6aaaa7e2.jpg  \r\n",
            "  inflating: hymenoptera_data/val/bees/220376539_20567395d8.jpg  \r\n",
            "  inflating: hymenoptera_data/val/bees/224841383_d050f5f510.jpg  \r\n",
            "  inflating: hymenoptera_data/val/bees/2321144482_f3785ba7b2.jpg  \r\n",
            "  inflating: hymenoptera_data/val/bees/238161922_55fa9a76ae.jpg  \r\n",
            "  inflating: hymenoptera_data/val/bees/2407809945_fb525ef54d.jpg  \r\n",
            "  inflating: hymenoptera_data/val/bees/2415414155_1916f03b42.jpg  \r\n",
            "  inflating: hymenoptera_data/val/bees/2438480600_40a1249879.jpg  \r\n",
            "  inflating: hymenoptera_data/val/bees/2444778727_4b781ac424.jpg  \r\n",
            "  inflating: hymenoptera_data/val/bees/2457841282_7867f16639.jpg  \r\n",
            "  inflating: hymenoptera_data/val/bees/2470492902_3572c90f75.jpg  \r\n",
            "  inflating: hymenoptera_data/val/bees/2478216347_535c8fe6d7.jpg  \r\n",
            "  inflating: hymenoptera_data/val/bees/2501530886_e20952b97d.jpg  \r\n",
            "  inflating: hymenoptera_data/val/bees/2506114833_90a41c5267.jpg  \r\n",
            "  inflating: hymenoptera_data/val/bees/2509402554_31821cb0b6.jpg  \r\n",
            "  inflating: hymenoptera_data/val/bees/2525379273_dcb26a516d.jpg  \r\n",
            "  inflating: hymenoptera_data/val/bees/26589803_5ba7000313.jpg  \r\n",
            "  inflating: hymenoptera_data/val/bees/2668391343_45e272cd07.jpg  \r\n",
            "  inflating: hymenoptera_data/val/bees/2670536155_c170f49cd0.jpg  \r\n",
            "  inflating: hymenoptera_data/val/bees/2685605303_9eed79d59d.jpg  \r\n",
            "  inflating: hymenoptera_data/val/bees/2702408468_d9ed795f4f.jpg  \r\n",
            "  inflating: hymenoptera_data/val/bees/2709775832_85b4b50a57.jpg  \r\n",
            "  inflating: hymenoptera_data/val/bees/2717418782_bd83307d9f.jpg  \r\n",
            "  inflating: hymenoptera_data/val/bees/272986700_d4d4bf8c4b.jpg  \r\n",
            "  inflating: hymenoptera_data/val/bees/2741763055_9a7bb00802.jpg  \r\n",
            "  inflating: hymenoptera_data/val/bees/2745389517_250a397f31.jpg  \r\n",
            "  inflating: hymenoptera_data/val/bees/2751836205_6f7b5eff30.jpg  \r\n",
            "  inflating: hymenoptera_data/val/bees/2782079948_8d4e94a826.jpg  \r\n",
            "  inflating: hymenoptera_data/val/bees/2809496124_5f25b5946a.jpg  \r\n",
            "  inflating: hymenoptera_data/val/bees/2815838190_0a9889d995.jpg  \r\n",
            "  inflating: hymenoptera_data/val/bees/2841437312_789699c740.jpg  \r\n",
            "  inflating: hymenoptera_data/val/bees/2883093452_7e3a1eb53f.jpg  \r\n",
            "  inflating: hymenoptera_data/val/bees/290082189_f66cb80bfc.jpg  \r\n",
            "  inflating: hymenoptera_data/val/bees/296565463_d07a7bed96.jpg  \r\n",
            "  inflating: hymenoptera_data/val/bees/3077452620_548c79fda0.jpg  \r\n",
            "  inflating: hymenoptera_data/val/bees/348291597_ee836fbb1a.jpg  \r\n",
            "  inflating: hymenoptera_data/val/bees/350436573_41f4ecb6c8.jpg  \r\n",
            "  inflating: hymenoptera_data/val/bees/353266603_d3eac7e9a0.jpg  \r\n",
            "  inflating: hymenoptera_data/val/bees/372228424_16da1f8884.jpg  \r\n",
            "  inflating: hymenoptera_data/val/bees/400262091_701c00031c.jpg  \r\n",
            "  inflating: hymenoptera_data/val/bees/416144384_961c326481.jpg  \r\n",
            "  inflating: hymenoptera_data/val/bees/44105569_16720a960c.jpg  \r\n",
            "  inflating: hymenoptera_data/val/bees/456097971_860949c4fc.jpg  \r\n",
            "  inflating: hymenoptera_data/val/bees/464594019_1b24a28bb1.jpg  \r\n",
            "  inflating: hymenoptera_data/val/bees/485743562_d8cc6b8f73.jpg  \r\n",
            "  inflating: hymenoptera_data/val/bees/540976476_844950623f.jpg  \r\n",
            "  inflating: hymenoptera_data/val/bees/54736755_c057723f64.jpg  \r\n",
            "  inflating: hymenoptera_data/val/bees/57459255_752774f1b2.jpg  \r\n",
            "  inflating: hymenoptera_data/val/bees/576452297_897023f002.jpg  \r\n",
            "  inflating: hymenoptera_data/val/bees/586474709_ae436da045.jpg  \r\n",
            "  inflating: hymenoptera_data/val/bees/590318879_68cf112861.jpg  \n",
            "  inflating: hymenoptera_data/val/bees/59798110_2b6a3c8031.jpg  \n",
            "  inflating: hymenoptera_data/val/bees/603709866_a97c7cfc72.jpg  \n",
            "  inflating: hymenoptera_data/val/bees/603711658_4c8cd2201e.jpg  \n",
            "  inflating: hymenoptera_data/val/bees/65038344_52a45d090d.jpg  \n",
            "  inflating: hymenoptera_data/val/bees/6a00d8341c630a53ef00e553d0beb18834-800wi.jpg  \n",
            "  inflating: hymenoptera_data/val/bees/72100438_73de9f17af.jpg  \n",
            "  inflating: hymenoptera_data/val/bees/759745145_e8bc776ec8.jpg  \n",
            "  inflating: hymenoptera_data/val/bees/936182217_c4caa5222d.jpg  \n",
            "  inflating: hymenoptera_data/val/bees/abeja.jpg  \n"
          ],
          "name": "stdout"
        }
      ]
    },
    {
      "metadata": {
        "id": "Z8Shx6nLIS7Q",
        "colab_type": "code",
        "colab": {
          "autoexec": {
            "startup": false,
            "wait_interval": 0
          },
          "output_extras": [
            {
              "item_id": 1
            }
          ],
          "base_uri": "https://localhost:8080/",
          "height": 34
        },
        "outputId": "8f9a3a71-a71e-492a-8af9-a3abcfd1eddb",
        "executionInfo": {
          "status": "ok",
          "timestamp": 1516710342405,
          "user_tz": -480,
          "elapsed": 910,
          "user": {
            "displayName": "Yuan Yao",
            "photoUrl": "https://lh3.googleusercontent.com/a/default-user=s128",
            "userId": "109481376556887074430"
          }
        }
      },
      "source": [
        "! ls"
      ],
      "cell_type": "code",
      "execution_count": 8,
      "outputs": [
        {
          "output_type": "stream",
          "text": [
            "datalab  hymenoptera_data  hymenoptera_data.zip\r\n"
          ],
          "name": "stdout"
        }
      ]
    },
    {
      "metadata": {
        "id": "UFvpSzaMHo7w",
        "colab_type": "code",
        "colab": {
          "autoexec": {
            "startup": false,
            "wait_interval": 0
          }
        }
      },
      "source": [
        "# Data augmentation and normalization for training\n",
        "# Just normalization for validation\n",
        "data_transforms = {\n",
        "    'train': transforms.Compose([\n",
        "        transforms.RandomSizedCrop(224),\n",
        "        transforms.RandomHorizontalFlip(),\n",
        "        transforms.ToTensor(),\n",
        "        transforms.Normalize([0.485, 0.456, 0.406], [0.229, 0.224, 0.225])\n",
        "    ]),\n",
        "    'val': transforms.Compose([\n",
        "        transforms.Scale(256),\n",
        "        transforms.CenterCrop(224),\n",
        "        transforms.ToTensor(),\n",
        "        transforms.Normalize([0.485, 0.456, 0.406], [0.229, 0.224, 0.225])\n",
        "    ]),\n",
        "}\n",
        "\n",
        "data_dir = 'hymenoptera_data'\n",
        "image_datasets = {x: datasets.ImageFolder(os.path.join(data_dir, x),\n",
        "                                          data_transforms[x])\n",
        "                  for x in ['train', 'val']}\n",
        "dataloaders = {x: torch.utils.data.DataLoader(image_datasets[x], batch_size=4,\n",
        "                                             shuffle=True, num_workers=4)\n",
        "              for x in ['train', 'val']}\n",
        "dataset_sizes = {x: len(image_datasets[x]) for x in ['train', 'val']}\n",
        "class_names = image_datasets['train'].classes\n",
        "\n",
        "use_gpu = torch.cuda.is_available()"
      ],
      "cell_type": "code",
      "execution_count": 0,
      "outputs": []
    },
    {
      "metadata": {
        "id": "AtmQ1ajrHo7y",
        "colab_type": "text"
      },
      "source": [
        "Visualize a few images\n",
        "^^^^^^^^^^^^^^^^^^^^^^\n",
        "Let's visualize a few training images so as to understand the data\n",
        "augmentations.\n",
        "\n"
      ],
      "cell_type": "markdown"
    },
    {
      "metadata": {
        "id": "Vpp-uFtEHo7z",
        "colab_type": "code",
        "colab": {
          "autoexec": {
            "startup": false,
            "wait_interval": 0
          },
          "output_extras": [
            {
              "item_id": 1
            }
          ],
          "base_uri": "https://localhost:8080/",
          "height": 147
        },
        "outputId": "53646611-30ea-4a2e-c54d-f28f7a55bd74",
        "executionInfo": {
          "status": "ok",
          "timestamp": 1516710353375,
          "user_tz": -480,
          "elapsed": 1407,
          "user": {
            "displayName": "Yuan Yao",
            "photoUrl": "https://lh3.googleusercontent.com/a/default-user=s128",
            "userId": "109481376556887074430"
          }
        }
      },
      "source": [
        "def imshow(inp, title=None):\n",
        "    \"\"\"Imshow for Tensor.\"\"\"\n",
        "    inp = inp.numpy().transpose((1, 2, 0))\n",
        "    mean = np.array([0.485, 0.456, 0.406])\n",
        "    std = np.array([0.229, 0.224, 0.225])\n",
        "    inp = std * inp + mean\n",
        "    inp = np.clip(inp, 0, 1)\n",
        "    plt.imshow(inp)\n",
        "    if title is not None:\n",
        "        plt.title(title)\n",
        "    plt.pause(0.001)  # pause a bit so that plots are updated\n",
        "\n",
        "\n",
        "# Get a batch of training data\n",
        "inputs, classes = next(iter(dataloaders['train']))\n",
        "\n",
        "# Make a grid from batch\n",
        "out = torchvision.utils.make_grid(inputs)\n",
        "\n",
        "imshow(out, title=[class_names[x] for x in classes])"
      ],
      "cell_type": "code",
      "execution_count": 10,
      "outputs": [
        {
          "output_type": "display_data",
          "data": {
            "image/png": "[encoded data removed]",
            "text/plain": [
              "<matplotlib.figure.Figure at 0x7f45482fd6a0>"
            ]
          },
          "metadata": {
            "tags": []
          }
        }
      ]
    },
    {
      "metadata": {
        "id": "z9MtJGT2Ho71",
        "colab_type": "text"
      },
      "source": [
        "Training the model\n",
        "------------------\n",
        "\n",
        "Now, let's write a general function to train a model. Here, we will\n",
        "illustrate:\n",
        "\n",
        "-  Scheduling the learning rate\n",
        "-  Saving the best model\n",
        "\n",
        "In the following, parameter ``scheduler`` is an LR scheduler object from\n",
        "``torch.optim.lr_scheduler``.\n",
        "\n"
      ],
      "cell_type": "markdown"
    },
    {
      "metadata": {
        "id": "Oqr-WhnAHo71",
        "colab_type": "code",
        "colab": {
          "autoexec": {
            "startup": false,
            "wait_interval": 0
          }
        }
      },
      "source": [
        "def train_model(model, criterion, optimizer, scheduler, num_epochs=25):\n",
        "    since = time.time()\n",
        "\n",
        "    best_model_wts = copy.deepcopy(model.state_dict())\n",
        "    best_acc = 0.0\n",
        "\n",
        "    for epoch in range(num_epochs):\n",
        "        print('Epoch {}/{}'.format(epoch, num_epochs - 1))\n",
        "        print('-' * 10)\n",
        "\n",
        "        # Each epoch has a training and validation phase\n",
        "        for phase in ['train', 'val']:\n",
        "            if phase == 'train':\n",
        "                scheduler.step()\n",
        "                model.train(True)  # Set model to training mode\n",
        "            else:\n",
        "                model.train(False)  # Set model to evaluate mode\n",
        "\n",
        "            running_loss = 0.0\n",
        "            running_corrects = 0\n",
        "\n",
        "            # Iterate over data.\n",
        "            for data in dataloaders[phase]:\n",
        "                # get the inputs\n",
        "                inputs, labels = data\n",
        "\n",
        "                # wrap them in Variable\n",
        "                if use_gpu:\n",
        "                    inputs = Variable(inputs.cuda())\n",
        "                    labels = Variable(labels.cuda())\n",
        "                else:\n",
        "                    inputs, labels = Variable(inputs), Variable(labels)\n",
        "\n",
        "                # zero the parameter gradients\n",
        "                optimizer.zero_grad()\n",
        "\n",
        "                # forward\n",
        "                outputs = model(inputs)\n",
        "                _, preds = torch.max(outputs.data, 1)\n",
        "                loss = criterion(outputs, labels)\n",
        "\n",
        "                # backward + optimize only if in training phase\n",
        "                if phase == 'train':\n",
        "                    loss.backward()\n",
        "                    optimizer.step()\n",
        "\n",
        "                # statistics\n",
        "                running_loss += loss.data[0] * inputs.size(0)\n",
        "                running_corrects += torch.sum(preds == labels.data)\n",
        "\n",
        "            epoch_loss = running_loss / dataset_sizes[phase]\n",
        "            epoch_acc = running_corrects / dataset_sizes[phase]\n",
        "\n",
        "            print('{} Loss: {:.4f} Acc: {:.4f}'.format(\n",
        "                phase, epoch_loss, epoch_acc))\n",
        "\n",
        "            # deep copy the model\n",
        "            if phase == 'val' and epoch_acc > best_acc:\n",
        "                best_acc = epoch_acc\n",
        "                best_model_wts = copy.deepcopy(model.state_dict())\n",
        "\n",
        "        print()\n",
        "\n",
        "    time_elapsed = time.time() - since\n",
        "    print('Training complete in {:.0f}m {:.0f}s'.format(\n",
        "        time_elapsed // 60, time_elapsed % 60))\n",
        "    print('Best val Acc: {:4f}'.format(best_acc))\n",
        "\n",
        "    # load best model weights\n",
        "    model.load_state_dict(best_model_wts)\n",
        "    return model"
      ],
      "cell_type": "code",
      "execution_count": 0,
      "outputs": []
    },
    {
      "metadata": {
        "id": "Ah-_tEnMHo74",
        "colab_type": "text"
      },
      "source": [
        "Visualizing the model predictions\n",
        "^^^^^^^^^^^^^^^^^^^^^^^^^^^^^^^^^\n",
        "\n",
        "Generic function to display predictions for a few images\n",
        "\n",
        "\n"
      ],
      "cell_type": "markdown"
    },
    {
      "metadata": {
        "id": "4TF5T8MQHo74",
        "colab_type": "code",
        "colab": {
          "autoexec": {
            "startup": false,
            "wait_interval": 0
          }
        }
      },
      "source": [
        "def visualize_model(model, num_images=6):\n",
        "    images_so_far = 0\n",
        "    fig = plt.figure()\n",
        "\n",
        "    for i, data in enumerate(dataloaders['val']):\n",
        "        inputs, labels = data\n",
        "        if use_gpu:\n",
        "            inputs, labels = Variable(inputs.cuda()), Variable(labels.cuda())\n",
        "        else:\n",
        "            inputs, labels = Variable(inputs), Variable(labels)\n",
        "\n",
        "        outputs = model(inputs)\n",
        "        _, preds = torch.max(outputs.data, 1)\n",
        "\n",
        "        for j in range(inputs.size()[0]):\n",
        "            images_so_far += 1\n",
        "            ax = plt.subplot(num_images//2, 2, images_so_far)\n",
        "            ax.axis('off')\n",
        "            ax.set_title('predicted: {}'.format(class_names[preds[j]]))\n",
        "            imshow(inputs.cpu().data[j])\n",
        "\n",
        "            if images_so_far == num_images:\n",
        "                return"
      ],
      "cell_type": "code",
      "execution_count": 0,
      "outputs": []
    },
    {
      "metadata": {
        "id": "BOOOUE2xHo76",
        "colab_type": "text"
      },
      "source": [
        "Finetuning the convnet\n",
        "----------------------\n",
        "\n",
        "Load a pretrained model and reset final fully connected layer.\n",
        "\n",
        "\n"
      ],
      "cell_type": "markdown"
    },
    {
      "metadata": {
        "id": "vWylzR5KHo77",
        "colab_type": "code",
        "colab": {
          "autoexec": {
            "startup": false,
            "wait_interval": 0
          },
          "output_extras": [
            {
              "item_id": 7
            },
            {
              "item_id": 46
            }
          ],
          "base_uri": "https://localhost:8080/",
          "height": 51
        },
        "outputId": "adfef3fe-ef12-4b0f-eec4-685758db87cc",
        "executionInfo": {
          "status": "ok",
          "timestamp": 1516710418443,
          "user_tz": -480,
          "elapsed": 14749,
          "user": {
            "displayName": "Yuan Yao",
            "photoUrl": "https://lh3.googleusercontent.com/a/default-user=s128",
            "userId": "109481376556887074430"
          }
        }
      },
      "source": [
        "model_ft = models.resnet18(pretrained=True)\n",
        "num_ftrs = model_ft.fc.in_features\n",
        "model_ft.fc = nn.Linear(num_ftrs, 2)\n",
        "\n",
        "if use_gpu:\n",
        "    model_ft = model_ft.cuda()\n",
        "\n",
        "criterion = nn.CrossEntropyLoss()\n",
        "\n",
        "# Observe that all parameters are being optimized\n",
        "optimizer_ft = optim.SGD(model_ft.parameters(), lr=0.001, momentum=0.9)\n",
        "\n",
        "# Decay LR by a factor of 0.1 every 7 epochs\n",
        "exp_lr_scheduler = lr_scheduler.StepLR(optimizer_ft, step_size=7, gamma=0.1)"
      ],
      "cell_type": "code",
      "execution_count": 13,
      "outputs": [
        {
          "output_type": "stream",
          "text": [
            "Downloading: \"https://download.pytorch.org/models/resnet18-5c106cde.pth\" to /content/.torch/models/resnet18-5c106cde.pth\n",
            "13.9%"
          ],
          "name": "stderr"
        },
        {
          "output_type": "stream",
          "text": [
            "100.0%\n"
          ],
          "name": "stderr"
        }
      ]
    },
    {
      "metadata": {
        "id": "nFWNTyc9Ho7-",
        "colab_type": "text"
      },
      "source": [
        "Train and evaluate\n",
        "^^^^^^^^^^^^^^^^^^\n",
        "\n",
        "It should take around 15-25 min on CPU. On GPU though, it takes less than a\n",
        "minute.\n",
        "\n",
        "\n"
      ],
      "cell_type": "markdown"
    },
    {
      "metadata": {
        "id": "lG6LaQNCHo7_",
        "colab_type": "code",
        "colab": {
          "autoexec": {
            "startup": false,
            "wait_interval": 0
          },
          "output_extras": [
            {
              "item_id": 51
            }
          ],
          "base_uri": "https://localhost:8080/",
          "height": 2176
        },
        "outputId": "6bac9424-e3ac-4289-eacc-4adbbec5dc0a",
        "executionInfo": {
          "status": "ok",
          "timestamp": 1516710556059,
          "user_tz": -480,
          "elapsed": 132440,
          "user": {
            "displayName": "Yuan Yao",
            "photoUrl": "https://lh3.googleusercontent.com/a/default-user=s128",
            "userId": "109481376556887074430"
          }
        }
      },
      "source": [
        "model_ft = train_model(model_ft, criterion, optimizer_ft, exp_lr_scheduler,\n",
        "                       num_epochs=25)"
      ],
      "cell_type": "code",
      "execution_count": 14,
      "outputs": [
        {
          "output_type": "stream",
          "text": [
            "Epoch 0/24\n",
            "----------\n",
            "train Loss: 0.6174 Acc: 0.7172\n",
            "val Loss: 0.2596 Acc: 0.8758\n",
            "\n",
            "Epoch 1/24\n",
            "----------\n",
            "train Loss: 0.5119 Acc: 0.7582\n",
            "val Loss: 0.3360 Acc: 0.8627\n",
            "\n",
            "Epoch 2/24\n",
            "----------\n",
            "train Loss: 0.4663 Acc: 0.8115\n",
            "val Loss: 0.5860 Acc: 0.7908\n",
            "\n",
            "Epoch 3/24\n",
            "----------\n",
            "train Loss: 0.5419 Acc: 0.7664\n",
            "val Loss: 0.3667 Acc: 0.8431\n",
            "\n",
            "Epoch 4/24\n",
            "----------\n",
            "train Loss: 0.6352 Acc: 0.7828\n",
            "val Loss: 0.4877 Acc: 0.8497\n",
            "\n",
            "Epoch 5/24\n",
            "----------\n",
            "train Loss: 0.4396 Acc: 0.8566\n",
            "val Loss: 0.3726 Acc: 0.8954\n",
            "\n",
            "Epoch 6/24\n",
            "----------\n",
            "train Loss: 0.4490 Acc: 0.8279\n",
            "val Loss: 0.3436 Acc: 0.8366\n",
            "\n",
            "Epoch 7/24\n",
            "----------\n",
            "train Loss: 0.3691 Acc: 0.8320\n",
            "val Loss: 0.3001 Acc: 0.8824\n",
            "\n",
            "Epoch 8/24\n",
            "----------\n",
            "train Loss: 0.3389 Acc: 0.8648\n",
            "val Loss: 0.3045 Acc: 0.8824\n",
            "\n",
            "Epoch 9/24\n",
            "----------\n",
            "train Loss: 0.3975 Acc: 0.8361\n",
            "val Loss: 0.2776 Acc: 0.9020\n",
            "\n",
            "Epoch 10/24\n",
            "----------\n",
            "train Loss: 0.3704 Acc: 0.8361\n",
            "val Loss: 0.2649 Acc: 0.9085\n",
            "\n",
            "Epoch 11/24\n",
            "----------\n",
            "train Loss: 0.4315 Acc: 0.8279\n",
            "val Loss: 0.2676 Acc: 0.9150\n",
            "\n",
            "Epoch 12/24\n",
            "----------\n",
            "train Loss: 0.3813 Acc: 0.8566\n",
            "val Loss: 0.2699 Acc: 0.9020\n",
            "\n",
            "Epoch 13/24\n",
            "----------\n",
            "train Loss: 0.3448 Acc: 0.8525\n",
            "val Loss: 0.2712 Acc: 0.8889\n",
            "\n",
            "Epoch 14/24\n",
            "----------\n",
            "train Loss: 0.3128 Acc: 0.8566\n",
            "val Loss: 0.2541 Acc: 0.9085\n",
            "\n",
            "Epoch 15/24\n",
            "----------\n",
            "train Loss: 0.3238 Acc: 0.8443\n",
            "val Loss: 0.2799 Acc: 0.9020\n",
            "\n",
            "Epoch 16/24\n",
            "----------\n",
            "train Loss: 0.2747 Acc: 0.8811\n",
            "val Loss: 0.2655 Acc: 0.8954\n",
            "\n",
            "Epoch 17/24\n",
            "----------\n",
            "train Loss: 0.2666 Acc: 0.8852\n",
            "val Loss: 0.2675 Acc: 0.9020\n",
            "\n",
            "Epoch 18/24\n",
            "----------\n",
            "train Loss: 0.3903 Acc: 0.8320\n",
            "val Loss: 0.2640 Acc: 0.9020\n",
            "\n",
            "Epoch 19/24\n",
            "----------\n",
            "train Loss: 0.3351 Acc: 0.8648\n",
            "val Loss: 0.2621 Acc: 0.9085\n",
            "\n",
            "Epoch 20/24\n",
            "----------\n",
            "train Loss: 0.3206 Acc: 0.8770\n",
            "val Loss: 0.2493 Acc: 0.9020\n",
            "\n",
            "Epoch 21/24\n",
            "----------\n",
            "train Loss: 0.3135 Acc: 0.8566\n",
            "val Loss: 0.2587 Acc: 0.9150\n",
            "\n",
            "Epoch 22/24\n",
            "----------\n",
            "train Loss: 0.2375 Acc: 0.9303\n",
            "val Loss: 0.2732 Acc: 0.8954\n",
            "\n",
            "Epoch 23/24\n",
            "----------\n",
            "train Loss: 0.2288 Acc: 0.8934\n",
            "val Loss: 0.2604 Acc: 0.8954\n",
            "\n",
            "Epoch 24/24\n",
            "----------\n",
            "train Loss: 0.1795 Acc: 0.9262\n",
            "val Loss: 0.2472 Acc: 0.9085\n",
            "\n",
            "Training complete in 2m 12s\n",
            "Best val Acc: 0.915033\n"
          ],
          "name": "stdout"
        }
      ]
    },
    {
      "metadata": {
        "id": "yATR-CqDHo8C",
        "colab_type": "code",
        "colab": {
          "autoexec": {
            "startup": false,
            "wait_interval": 0
          },
          "output_extras": [
            {
              "item_id": 1
            },
            {
              "item_id": 2
            },
            {
              "item_id": 3
            },
            {
              "item_id": 4
            },
            {
              "item_id": 5
            },
            {
              "item_id": 6
            }
          ],
          "base_uri": "https://localhost:8080/",
          "height": 677
        },
        "outputId": "be540e67-5be9-4ca4-f802-59686eae6fec",
        "executionInfo": {
          "status": "ok",
          "timestamp": 1516710562733,
          "user_tz": -480,
          "elapsed": 1918,
          "user": {
            "displayName": "Yuan Yao",
            "photoUrl": "https://lh3.googleusercontent.com/a/default-user=s128",
            "userId": "109481376556887074430"
          }
        }
      },
      "source": [
        "visualize_model(model_ft)"
      ],
      "cell_type": "code",
      "execution_count": 15,
      "outputs": [
        {
          "output_type": "display_data",
          "data": {
            "image/png": "[encoded data removed]",
            "text/plain": [
              "<matplotlib.figure.Figure at 0x7f4515593978>"
            ]
          },
          "metadata": {
            "tags": []
          }
        },
        {
          "output_type": "display_data",
          "data": {
            "image/png": "[encoded data removed]",
            "text/plain": [
              "<matplotlib.figure.Figure at 0x7f4511116f28>"
            ]
          },
          "metadata": {
            "tags": []
          }
        },
        {
          "output_type": "display_data",
          "data": {
            "image/png": "[encoded data removed]",
            "text/plain": [
              "<matplotlib.figure.Figure at 0x7f4510869438>"
            ]
          },
          "metadata": {
            "tags": []
          }
        },
        {
          "output_type": "display_data",
          "data": {
            "image/png": "[encoded data removed]",
            "text/plain": [
              "<matplotlib.figure.Figure at 0x7f4510833828>"
            ]
          },
          "metadata": {
            "tags": []
          }
        },
        {
          "output_type": "display_data",
          "data": {
            "image/png": "[encoded data removed]",
            "text/plain": [
              "<matplotlib.figure.Figure at 0x7f451562e278>"
            ]
          },
          "metadata": {
            "tags": []
          }
        },
        {
          "output_type": "display_data",
          "data": {
            "image/png": "[encoded data removed]",
            "text/plain": [
              "<matplotlib.figure.Figure at 0x7f45107c86a0>"
            ]
          },
          "metadata": {
            "tags": []
          }
        }
      ]
    },
    {
      "metadata": {
        "id": "UAMcH3l7Ho8F",
        "colab_type": "text"
      },
      "source": [
        "ConvNet as fixed feature extractor\n",
        "----------------------------------\n",
        "\n",
        "Here, we need to freeze all the network except the final layer. We need\n",
        "to set ``requires_grad == False`` to freeze the parameters so that the\n",
        "gradients are not computed in ``backward()``.\n",
        "\n",
        "You can read more about this in the documentation\n",
        "`here <http://pytorch.org/docs/notes/autograd.html#excluding-subgraphs-from-backward>`__.\n",
        "\n",
        "\n"
      ],
      "cell_type": "markdown"
    },
    {
      "metadata": {
        "id": "i9AKHRuyHo8F",
        "colab_type": "code",
        "colab": {
          "autoexec": {
            "startup": false,
            "wait_interval": 0
          }
        }
      },
      "source": [
        "model_conv = torchvision.models.resnet18(pretrained=True)\n",
        "for param in model_conv.parameters():\n",
        "    param.requires_grad = False\n",
        "\n",
        "# Parameters of newly constructed modules have requires_grad=True by default\n",
        "num_ftrs = model_conv.fc.in_features\n",
        "model_conv.fc = nn.Linear(num_ftrs, 2)\n",
        "\n",
        "if use_gpu:\n",
        "    model_conv = model_conv.cuda()\n",
        "\n",
        "criterion = nn.CrossEntropyLoss()\n",
        "\n",
        "# Observe that only parameters of final layer are being optimized as\n",
        "# opoosed to before.\n",
        "optimizer_conv = optim.SGD(model_conv.fc.parameters(), lr=0.001, momentum=0.9)\n",
        "\n",
        "# Decay LR by a factor of 0.1 every 7 epochs\n",
        "exp_lr_scheduler = lr_scheduler.StepLR(optimizer_conv, step_size=7, gamma=0.1)"
      ],
      "cell_type": "code",
      "execution_count": 0,
      "outputs": []
    },
    {
      "metadata": {
        "id": "zVxBGFyJHo8H",
        "colab_type": "text"
      },
      "source": [
        "Train and evaluate\n",
        "^^^^^^^^^^^^^^^^^^\n",
        "\n",
        "On CPU this will take about half the time compared to previous scenario.\n",
        "This is expected as gradients don't need to be computed for most of the\n",
        "network. However, forward does need to be computed.\n",
        "\n",
        "\n"
      ],
      "cell_type": "markdown"
    },
    {
      "metadata": {
        "id": "MuKBpj-nHo8I",
        "colab_type": "code",
        "colab": {
          "autoexec": {
            "startup": false,
            "wait_interval": 0
          },
          "output_extras": [
            {
              "item_id": 51
            }
          ],
          "base_uri": "https://localhost:8080/",
          "height": 2176
        },
        "outputId": "0d6a312e-2369-4e84-96f1-e562e5d74b71",
        "executionInfo": {
          "status": "ok",
          "timestamp": 1516710683909,
          "user_tz": -480,
          "elapsed": 90371,
          "user": {
            "displayName": "Yuan Yao",
            "photoUrl": "https://lh3.googleusercontent.com/a/default-user=s128",
            "userId": "109481376556887074430"
          }
        }
      },
      "source": [
        "model_conv = train_model(model_conv, criterion, optimizer_conv,\n",
        "                         exp_lr_scheduler, num_epochs=25)"
      ],
      "cell_type": "code",
      "execution_count": 17,
      "outputs": [
        {
          "output_type": "stream",
          "text": [
            "Epoch 0/24\n",
            "----------\n",
            "train Loss: 0.6251 Acc: 0.6967\n",
            "val Loss: 0.4889 Acc: 0.7320\n",
            "\n",
            "Epoch 1/24\n",
            "----------\n",
            "train Loss: 0.4198 Acc: 0.8033\n",
            "val Loss: 0.2074 Acc: 0.9281\n",
            "\n",
            "Epoch 2/24\n",
            "----------\n",
            "train Loss: 0.3666 Acc: 0.8443\n",
            "val Loss: 0.2191 Acc: 0.9281\n",
            "\n",
            "Epoch 3/24\n",
            "----------\n",
            "train Loss: 0.4716 Acc: 0.8156\n",
            "val Loss: 0.1821 Acc: 0.9346\n",
            "\n",
            "Epoch 4/24\n",
            "----------\n",
            "train Loss: 0.4859 Acc: 0.7869\n",
            "val Loss: 0.2579 Acc: 0.9150\n",
            "\n",
            "Epoch 5/24\n",
            "----------\n",
            "train Loss: 0.4337 Acc: 0.7992\n",
            "val Loss: 0.3623 Acc: 0.8693\n",
            "\n",
            "Epoch 6/24\n",
            "----------\n",
            "train Loss: 0.4304 Acc: 0.8279\n",
            "val Loss: 0.1699 Acc: 0.9412\n",
            "\n",
            "Epoch 7/24\n",
            "----------\n",
            "train Loss: 0.2908 Acc: 0.8893\n",
            "val Loss: 0.1726 Acc: 0.9608\n",
            "\n",
            "Epoch 8/24\n",
            "----------\n",
            "train Loss: 0.3006 Acc: 0.8607\n",
            "val Loss: 0.2059 Acc: 0.9346\n",
            "\n",
            "Epoch 9/24\n",
            "----------\n",
            "train Loss: 0.2993 Acc: 0.8566\n",
            "val Loss: 0.1715 Acc: 0.9608\n",
            "\n",
            "Epoch 10/24\n",
            "----------\n",
            "train Loss: 0.4146 Acc: 0.8033\n",
            "val Loss: 0.1680 Acc: 0.9542\n",
            "\n",
            "Epoch 11/24\n",
            "----------\n",
            "train Loss: 0.3275 Acc: 0.8648\n",
            "val Loss: 0.1595 Acc: 0.9608\n",
            "\n",
            "Epoch 12/24\n",
            "----------\n",
            "train Loss: 0.2823 Acc: 0.8893\n",
            "val Loss: 0.1887 Acc: 0.9346\n",
            "\n",
            "Epoch 13/24\n",
            "----------\n",
            "train Loss: 0.3988 Acc: 0.8033\n",
            "val Loss: 0.1745 Acc: 0.9608\n",
            "\n",
            "Epoch 14/24\n",
            "----------\n",
            "train Loss: 0.4275 Acc: 0.7992\n",
            "val Loss: 0.1570 Acc: 0.9608\n",
            "\n",
            "Epoch 15/24\n",
            "----------\n",
            "train Loss: 0.3519 Acc: 0.8484\n",
            "val Loss: 0.1747 Acc: 0.9477\n",
            "\n",
            "Epoch 16/24\n",
            "----------\n",
            "train Loss: 0.4086 Acc: 0.8238\n",
            "val Loss: 0.1988 Acc: 0.9346\n",
            "\n",
            "Epoch 17/24\n",
            "----------\n",
            "train Loss: 0.2783 Acc: 0.8770\n",
            "val Loss: 0.1667 Acc: 0.9608\n",
            "\n",
            "Epoch 18/24\n",
            "----------\n",
            "train Loss: 0.3697 Acc: 0.8484\n",
            "val Loss: 0.1726 Acc: 0.9477\n",
            "\n",
            "Epoch 19/24\n",
            "----------\n",
            "train Loss: 0.3246 Acc: 0.8730\n",
            "val Loss: 0.1720 Acc: 0.9477\n",
            "\n",
            "Epoch 20/24\n",
            "----------\n",
            "train Loss: 0.2441 Acc: 0.8975\n",
            "val Loss: 0.1913 Acc: 0.9346\n",
            "\n",
            "Epoch 21/24\n",
            "----------\n",
            "train Loss: 0.3092 Acc: 0.8607\n",
            "val Loss: 0.1653 Acc: 0.9542\n",
            "\n",
            "Epoch 22/24\n",
            "----------\n",
            "train Loss: 0.3590 Acc: 0.8402\n",
            "val Loss: 0.1701 Acc: 0.9542\n",
            "\n",
            "Epoch 23/24\n",
            "----------\n",
            "train Loss: 0.2740 Acc: 0.8852\n",
            "val Loss: 0.1617 Acc: 0.9608\n",
            "\n",
            "Epoch 24/24\n",
            "----------\n",
            "train Loss: 0.2764 Acc: 0.9098\n",
            "val Loss: 0.1698 Acc: 0.9608\n",
            "\n",
            "Training complete in 1m 30s\n",
            "Best val Acc: 0.960784\n"
          ],
          "name": "stdout"
        }
      ]
    },
    {
      "metadata": {
        "id": "DOJTSdlVHo8K",
        "colab_type": "code",
        "colab": {
          "autoexec": {
            "startup": false,
            "wait_interval": 0
          },
          "output_extras": [
            {
              "item_id": 1
            },
            {
              "item_id": 2
            },
            {
              "item_id": 3
            },
            {
              "item_id": 4
            },
            {
              "item_id": 5
            },
            {
              "item_id": 6
            }
          ],
          "base_uri": "https://localhost:8080/",
          "height": 677
        },
        "outputId": "a3e73034-3ca5-4b8c-d954-2dc53eeec42e",
        "executionInfo": {
          "status": "ok",
          "timestamp": 1516710690606,
          "user_tz": -480,
          "elapsed": 1688,
          "user": {
            "displayName": "Yuan Yao",
            "photoUrl": "https://lh3.googleusercontent.com/a/default-user=s128",
            "userId": "109481376556887074430"
          }
        }
      },
      "source": [
        "visualize_model(model_conv)\n",
        "\n",
        "plt.ioff()\n",
        "plt.show()"
      ],
      "cell_type": "code",
      "execution_count": 18,
      "outputs": [
        {
          "output_type": "display_data",
          "data": {
            "image/png": "[encoded data removed]",
            "text/plain": [
              "<matplotlib.figure.Figure at 0x7f45107f75c0>"
            ]
          },
          "metadata": {
            "tags": []
          }
        },
        {
          "output_type": "display_data",
          "data": {
            "image/png": "[encoded data removed]",
            "text/plain": [
              "<matplotlib.figure.Figure at 0x7f4510896978>"
            ]
          },
          "metadata": {
            "tags": []
          }
        },
        {
          "output_type": "display_data",
          "data": {
            "image/png": "[encoded data removed]",
            "text/plain": [
              "<matplotlib.figure.Figure at 0x7f45647a0860>"
            ]
          },
          "metadata": {
            "tags": []
          }
        },
        {
          "output_type": "display_data",
          "data": {
            "image/png": "[encoded data removed]",
            "text/plain": [
              "<matplotlib.figure.Figure at 0x7f451085d358>"
            ]
          },
          "metadata": {
            "tags": []
          }
        },
        {
          "output_type": "display_data",
          "data": {
            "image/png": "[encoded data removed]",
            "text/plain": [
              "<matplotlib.figure.Figure at 0x7f45108459b0>"
            ]
          },
          "metadata": {
            "tags": []
          }
        },
        {
          "output_type": "display_data",
          "data": {
            "image/png": "[encoded data removed]",
            "text/plain": [
              "<matplotlib.figure.Figure at 0x7f45106f9400>"
            ]
          },
          "metadata": {
            "tags": []
          }
        }
      ]
    },
    {
      "metadata": {
        "id": "GGfCIKADALjE",
        "colab_type": "text"
      },
      "source": [
        "One can also extract features from resnet18 and save it in .txt file for other explorations."
      ],
      "cell_type": "markdown"
    },
    {
      "metadata": {
        "id": "lXB2k1x1J-ND",
        "colab_type": "code",
        "colab": {
          "autoexec": {
            "startup": false,
            "wait_interval": 0
          },
          "output_extras": [
            {
              "item_id": 1
            }
          ],
          "base_uri": "https://localhost:8080/",
          "height": 34
        },
        "outputId": "6faf436c-2801-4206-b6b5-6da607bbbe71",
        "executionInfo": {
          "status": "ok",
          "timestamp": 1516710822583,
          "user_tz": -480,
          "elapsed": 1398,
          "user": {
            "displayName": "Yuan Yao",
            "photoUrl": "https://lh3.googleusercontent.com/a/default-user=s128",
            "userId": "109481376556887074430"
          }
        }
      },
      "source": [
        "model_ft = models.resnet18(pretrained=True)\n",
        "num_ftrs = model_ft.fc.in_features\n",
        "print(num_ftrs)"
      ],
      "cell_type": "code",
      "execution_count": 19,
      "outputs": [
        {
          "output_type": "stream",
          "text": [
            "512\n"
          ],
          "name": "stdout"
        }
      ]
    },
    {
      "metadata": {
        "id": "r8xYS633Anz5",
        "colab_type": "code",
        "colab": {
          "autoexec": {
            "startup": false,
            "wait_interval": 0
          },
          "output_extras": [
            {
              "item_id": 1
            }
          ],
          "base_uri": "https://localhost:8080/",
          "height": 1445
        },
        "outputId": "2f185f9a-f9ff-42c5-e02f-2cc5c2f3eece",
        "executionInfo": {
          "status": "ok",
          "timestamp": 1516710842836,
          "user_tz": -480,
          "elapsed": 604,
          "user": {
            "displayName": "Yuan Yao",
            "photoUrl": "https://lh3.googleusercontent.com/a/default-user=s128",
            "userId": "109481376556887074430"
          }
        }
      },
      "source": [
        "print(model_ft)"
      ],
      "cell_type": "code",
      "execution_count": 20,
      "outputs": [
        {
          "output_type": "stream",
          "text": [
            "ResNet (\n",
            "  (conv1): Conv2d(3, 64, kernel_size=(7, 7), stride=(2, 2), padding=(3, 3), bias=False)\n",
            "  (bn1): BatchNorm2d(64, eps=1e-05, momentum=0.1, affine=True)\n",
            "  (relu): ReLU (inplace)\n",
            "  (maxpool): MaxPool2d (size=(3, 3), stride=(2, 2), padding=(1, 1), dilation=(1, 1))\n",
            "  (layer1): Sequential (\n",
            "    (0): BasicBlock (\n",
            "      (conv1): Conv2d(64, 64, kernel_size=(3, 3), stride=(1, 1), padding=(1, 1), bias=False)\n",
            "      (bn1): BatchNorm2d(64, eps=1e-05, momentum=0.1, affine=True)\n",
            "      (relu): ReLU (inplace)\n",
            "      (conv2): Conv2d(64, 64, kernel_size=(3, 3), stride=(1, 1), padding=(1, 1), bias=False)\n",
            "      (bn2): BatchNorm2d(64, eps=1e-05, momentum=0.1, affine=True)\n",
            "    )\n",
            "    (1): BasicBlock (\n",
            "      (conv1): Conv2d(64, 64, kernel_size=(3, 3), stride=(1, 1), padding=(1, 1), bias=False)\n",
            "      (bn1): BatchNorm2d(64, eps=1e-05, momentum=0.1, affine=True)\n",
            "      (relu): ReLU (inplace)\n",
            "      (conv2): Conv2d(64, 64, kernel_size=(3, 3), stride=(1, 1), padding=(1, 1), bias=False)\n",
            "      (bn2): BatchNorm2d(64, eps=1e-05, momentum=0.1, affine=True)\n",
            "    )\n",
            "  )\n",
            "  (layer2): Sequential (\n",
            "    (0): BasicBlock (\n",
            "      (conv1): Conv2d(64, 128, kernel_size=(3, 3), stride=(2, 2), padding=(1, 1), bias=False)\n",
            "      (bn1): BatchNorm2d(128, eps=1e-05, momentum=0.1, affine=True)\n",
            "      (relu): ReLU (inplace)\n",
            "      (conv2): Conv2d(128, 128, kernel_size=(3, 3), stride=(1, 1), padding=(1, 1), bias=False)\n",
            "      (bn2): BatchNorm2d(128, eps=1e-05, momentum=0.1, affine=True)\n",
            "      (downsample): Sequential (\n",
            "        (0): Conv2d(64, 128, kernel_size=(1, 1), stride=(2, 2), bias=False)\n",
            "        (1): BatchNorm2d(128, eps=1e-05, momentum=0.1, affine=True)\n",
            "      )\n",
            "    )\n",
            "    (1): BasicBlock (\n",
            "      (conv1): Conv2d(128, 128, kernel_size=(3, 3), stride=(1, 1), padding=(1, 1), bias=False)\n",
            "      (bn1): BatchNorm2d(128, eps=1e-05, momentum=0.1, affine=True)\n",
            "      (relu): ReLU (inplace)\n",
            "      (conv2): Conv2d(128, 128, kernel_size=(3, 3), stride=(1, 1), padding=(1, 1), bias=False)\n",
            "      (bn2): BatchNorm2d(128, eps=1e-05, momentum=0.1, affine=True)\n",
            "    )\n",
            "  )\n",
            "  (layer3): Sequential (\n",
            "    (0): BasicBlock (\n",
            "      (conv1): Conv2d(128, 256, kernel_size=(3, 3), stride=(2, 2), padding=(1, 1), bias=False)\n",
            "      (bn1): BatchNorm2d(256, eps=1e-05, momentum=0.1, affine=True)\n",
            "      (relu): ReLU (inplace)\n",
            "      (conv2): Conv2d(256, 256, kernel_size=(3, 3), stride=(1, 1), padding=(1, 1), bias=False)\n",
            "      (bn2): BatchNorm2d(256, eps=1e-05, momentum=0.1, affine=True)\n",
            "      (downsample): Sequential (\n",
            "        (0): Conv2d(128, 256, kernel_size=(1, 1), stride=(2, 2), bias=False)\n",
            "        (1): BatchNorm2d(256, eps=1e-05, momentum=0.1, affine=True)\n",
            "      )\n",
            "    )\n",
            "    (1): BasicBlock (\n",
            "      (conv1): Conv2d(256, 256, kernel_size=(3, 3), stride=(1, 1), padding=(1, 1), bias=False)\n",
            "      (bn1): BatchNorm2d(256, eps=1e-05, momentum=0.1, affine=True)\n",
            "      (relu): ReLU (inplace)\n",
            "      (conv2): Conv2d(256, 256, kernel_size=(3, 3), stride=(1, 1), padding=(1, 1), bias=False)\n",
            "      (bn2): BatchNorm2d(256, eps=1e-05, momentum=0.1, affine=True)\n",
            "    )\n",
            "  )\n",
            "  (layer4): Sequential (\n",
            "    (0): BasicBlock (\n",
            "      (conv1): Conv2d(256, 512, kernel_size=(3, 3), stride=(2, 2), padding=(1, 1), bias=False)\n",
            "      (bn1): BatchNorm2d(512, eps=1e-05, momentum=0.1, affine=True)\n",
            "      (relu): ReLU (inplace)\n",
            "      (conv2): Conv2d(512, 512, kernel_size=(3, 3), stride=(1, 1), padding=(1, 1), bias=False)\n",
            "      (bn2): BatchNorm2d(512, eps=1e-05, momentum=0.1, affine=True)\n",
            "      (downsample): Sequential (\n",
            "        (0): Conv2d(256, 512, kernel_size=(1, 1), stride=(2, 2), bias=False)\n",
            "        (1): BatchNorm2d(512, eps=1e-05, momentum=0.1, affine=True)\n",
            "      )\n",
            "    )\n",
            "    (1): BasicBlock (\n",
            "      (conv1): Conv2d(512, 512, kernel_size=(3, 3), stride=(1, 1), padding=(1, 1), bias=False)\n",
            "      (bn1): BatchNorm2d(512, eps=1e-05, momentum=0.1, affine=True)\n",
            "      (relu): ReLU (inplace)\n",
            "      (conv2): Conv2d(512, 512, kernel_size=(3, 3), stride=(1, 1), padding=(1, 1), bias=False)\n",
            "      (bn2): BatchNorm2d(512, eps=1e-05, momentum=0.1, affine=True)\n",
            "    )\n",
            "  )\n",
            "  (avgpool): AvgPool2d (size=7, stride=7, padding=0, ceil_mode=False, count_include_pad=True)\n",
            "  (fc): Linear (512 -> 1000)\n",
            ")\n"
          ],
          "name": "stdout"
        }
      ]
    },
    {
      "metadata": {
        "id": "a3geKDwHAxgL",
        "colab_type": "text"
      },
      "source": [
        "Now extract 512-features as the network output after removing the last fc layer."
      ],
      "cell_type": "markdown"
    },
    {
      "metadata": {
        "id": "VPGPKYtcAs8w",
        "colab_type": "code",
        "colab": {
          "autoexec": {
            "startup": false,
            "wait_interval": 0
          },
          "output_extras": [
            {
              "item_id": 1
            }
          ],
          "base_uri": "https://localhost:8080/",
          "height": 136
        },
        "outputId": "e0a4c780-14c7-4620-863a-dfcf97e3b9ad",
        "executionInfo": {
          "status": "ok",
          "timestamp": 1516710934485,
          "user_tz": -480,
          "elapsed": 633,
          "user": {
            "displayName": "Yuan Yao",
            "photoUrl": "https://lh3.googleusercontent.com/a/default-user=s128",
            "userId": "109481376556887074430"
          }
        }
      },
      "source": [
        "modules = list(model_ft.children())[:-1]\n",
        "resnet18_feature = nn.Sequential(*modules)\n",
        "\n",
        "inputs, classes = next(iter(dataloaders['val']))\n",
        "print(classes)"
      ],
      "cell_type": "code",
      "execution_count": 21,
      "outputs": [
        {
          "output_type": "stream",
          "text": [
            "\n",
            " 1\n",
            " 1\n",
            " 1\n",
            " 1\n",
            "[torch.LongTensor of size 4]\n",
            "\n"
          ],
          "name": "stdout"
        }
      ]
    },
    {
      "metadata": {
        "id": "HlH80Ca6BDUR",
        "colab_type": "code",
        "colab": {
          "autoexec": {
            "startup": false,
            "wait_interval": 0
          },
          "output_extras": [
            {
              "item_id": 1
            }
          ],
          "base_uri": "https://localhost:8080/",
          "height": 34
        },
        "outputId": "70d2654e-cfb9-4056-f5ce-8790b297b31d",
        "executionInfo": {
          "status": "ok",
          "timestamp": 1516710978520,
          "user_tz": -480,
          "elapsed": 917,
          "user": {
            "displayName": "Yuan Yao",
            "photoUrl": "https://lh3.googleusercontent.com/a/default-user=s128",
            "userId": "109481376556887074430"
          }
        }
      },
      "source": [
        "inputs, labels = Variable(inputs), Variable(classes)\n",
        "outputs = resnet18_feature(inputs)\n",
        "\n",
        "outputs.size()"
      ],
      "cell_type": "code",
      "execution_count": 22,
      "outputs": [
        {
          "output_type": "execute_result",
          "data": {
            "text/plain": [
              "torch.Size([4, 512, 1, 1])"
            ]
          },
          "metadata": {
            "tags": []
          },
          "execution_count": 22
        }
      ]
    },
    {
      "metadata": {
        "id": "diDPnO-ABUz7",
        "colab_type": "text"
      },
      "source": [
        "Reshape the torch tensor to be a matrix of nsample-by-nfeature:"
      ],
      "cell_type": "markdown"
    },
    {
      "metadata": {
        "id": "VHsBFDRHBN_4",
        "colab_type": "code",
        "colab": {
          "autoexec": {
            "startup": false,
            "wait_interval": 0
          },
          "output_extras": [
            {
              "item_id": 1
            }
          ],
          "base_uri": "https://localhost:8080/",
          "height": 34
        },
        "outputId": "04830d7c-4b28-41b5-fe07-c6b01f673681",
        "executionInfo": {
          "status": "ok",
          "timestamp": 1516711060406,
          "user_tz": -480,
          "elapsed": 828,
          "user": {
            "displayName": "Yuan Yao",
            "photoUrl": "https://lh3.googleusercontent.com/a/default-user=s128",
            "userId": "109481376556887074430"
          }
        }
      },
      "source": [
        "out1 = outputs.resize(4,512)\n",
        "out1.size()"
      ],
      "cell_type": "code",
      "execution_count": 23,
      "outputs": [
        {
          "output_type": "execute_result",
          "data": {
            "text/plain": [
              "torch.Size([4, 512])"
            ]
          },
          "metadata": {
            "tags": []
          },
          "execution_count": 23
        }
      ]
    },
    {
      "metadata": {
        "id": "k65yTJGFBiAp",
        "colab_type": "code",
        "colab": {
          "autoexec": {
            "startup": false,
            "wait_interval": 0
          },
          "output_extras": [
            {
              "item_id": 1
            }
          ],
          "base_uri": "https://localhost:8080/",
          "height": 561
        },
        "outputId": "c5119b25-31de-4aa9-baef-65c7d7c9a484",
        "executionInfo": {
          "status": "ok",
          "timestamp": 1516711602509,
          "user_tz": -480,
          "elapsed": 2917,
          "user": {
            "displayName": "Yuan Yao",
            "photoUrl": "https://lh3.googleusercontent.com/a/default-user=s128",
            "userId": "109481376556887074430"
          }
        }
      },
      "source": [
        "out1_array = np.array(out1)\n",
        "out1_array.shape"
      ],
      "cell_type": "code",
      "execution_count": 31,
      "outputs": [
        {
          "output_type": "execute_result",
          "data": {
            "text/plain": [
              "(4,\n",
              " 512,\n",
              " 1,\n",
              " 1,\n",
              " 1,\n",
              " 1,\n",
              " 1,\n",
              " 1,\n",
              " 1,\n",
              " 1,\n",
              " 1,\n",
              " 1,\n",
              " 1,\n",
              " 1,\n",
              " 1,\n",
              " 1,\n",
              " 1,\n",
              " 1,\n",
              " 1,\n",
              " 1,\n",
              " 1,\n",
              " 1,\n",
              " 1,\n",
              " 1,\n",
              " 1,\n",
              " 1,\n",
              " 1,\n",
              " 1,\n",
              " 1,\n",
              " 1,\n",
              " 1,\n",
              " 1)"
            ]
          },
          "metadata": {
            "tags": []
          },
          "execution_count": 31
        }
      ]
    },
    {
      "metadata": {
        "id": "0xGF5tKWBxl4",
        "colab_type": "code",
        "colab": {
          "autoexec": {
            "startup": false,
            "wait_interval": 0
          }
        }
      },
      "source": [
        "np.save('resnet18_ft',out1_array)"
      ],
      "cell_type": "code",
      "execution_count": 0,
      "outputs": []
    },
    {
      "metadata": {
        "id": "VvMDiFVACJ3B",
        "colab_type": "code",
        "colab": {
          "autoexec": {
            "startup": false,
            "wait_interval": 0
          }
        }
      },
      "source": [
        "X = np.load('resnet18_ft.npy')"
      ],
      "cell_type": "code",
      "execution_count": 0,
      "outputs": []
    },
    {
      "metadata": {
        "id": "4rbrjkWJEST5",
        "colab_type": "code",
        "colab": {
          "autoexec": {
            "startup": false,
            "wait_interval": 0
          },
          "output_extras": [
            {
              "item_id": 1
            }
          ],
          "base_uri": "https://localhost:8080/",
          "height": 561
        },
        "outputId": "6e17d73d-256d-45dd-a117-0f190e8d160d",
        "executionInfo": {
          "status": "ok",
          "timestamp": 1516711858720,
          "user_tz": -480,
          "elapsed": 596,
          "user": {
            "displayName": "Yuan Yao",
            "photoUrl": "https://lh3.googleusercontent.com/a/default-user=s128",
            "userId": "109481376556887074430"
          }
        }
      },
      "source": [
        "X.shape"
      ],
      "cell_type": "code",
      "execution_count": 42,
      "outputs": [
        {
          "output_type": "execute_result",
          "data": {
            "text/plain": [
              "(4,\n",
              " 512,\n",
              " 1,\n",
              " 1,\n",
              " 1,\n",
              " 1,\n",
              " 1,\n",
              " 1,\n",
              " 1,\n",
              " 1,\n",
              " 1,\n",
              " 1,\n",
              " 1,\n",
              " 1,\n",
              " 1,\n",
              " 1,\n",
              " 1,\n",
              " 1,\n",
              " 1,\n",
              " 1,\n",
              " 1,\n",
              " 1,\n",
              " 1,\n",
              " 1,\n",
              " 1,\n",
              " 1,\n",
              " 1,\n",
              " 1,\n",
              " 1,\n",
              " 1,\n",
              " 1,\n",
              " 1)"
            ]
          },
          "metadata": {
            "tags": []
          },
          "execution_count": 42
        }
      ]
    },
    {
      "metadata": {
        "id": "2Pj_OIsDEk9x",
        "colab_type": "code",
        "colab": {
          "autoexec": {
            "startup": false,
            "wait_interval": 0
          }
        }
      },
      "source": [
        ""
      ],
      "cell_type": "code",
      "execution_count": 0,
      "outputs": []
    }
  ]
}